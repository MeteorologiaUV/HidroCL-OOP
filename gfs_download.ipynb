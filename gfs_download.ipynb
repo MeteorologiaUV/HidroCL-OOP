{
 "cells": [
  {
   "cell_type": "code",
   "execution_count": null,
   "metadata": {
    "collapsed": true
   },
   "outputs": [],
   "source": [
    "import os\n",
    "import subprocess\n",
    "import requests\n",
    "from bs4 import BeautifulSoup"
   ]
  },
  {
   "cell_type": "code",
   "execution_count": null,
   "outputs": [],
   "source": [
    "url = \"https://www.ncei.noaa.gov/pub/has/model/HASxxxxxxxxx/\"\n",
    "\n",
    "# web scrapping\n",
    "r = requests.get(url)\n",
    "soup = BeautifulSoup(r.content, 'html5lib')\n",
    "\n",
    "vals = []\n",
    "\n",
    "for row in soup.findAll('a', href=True):\n",
    "    vals.append(row['href'])\n",
    "\n",
    "files = [value for value in vals if '.tar' in value]"
   ],
   "metadata": {
    "collapsed": false
   }
  },
  {
   "cell_type": "code",
   "execution_count": null,
   "outputs": [],
   "source": [
    "# check if file exists\n",
    "to_download = [os.path.join(url,value) for value in files if not os.path.isfile(value)]"
   ],
   "metadata": {
    "collapsed": false
   }
  },
  {
   "cell_type": "code",
   "execution_count": null,
   "outputs": [],
   "source": [
    "# create files chunk for multiple downloads\n",
    "download_chunks = []\n",
    "n = 3\n",
    "\n",
    "for i in range(n, len(to_download) + n, n):\n",
    "    download_chunks.append(to_download[i-n:i])"
   ],
   "metadata": {
    "collapsed": false
   }
  },
  {
   "cell_type": "code",
   "execution_count": null,
   "outputs": [],
   "source": [
    "# download with axel\n",
    "base_list = ['axel']\n",
    "\n",
    "for chunk in download_chunks:\n",
    "    subprocess.run(base_list + chunk)"
   ],
   "metadata": {
    "collapsed": false
   }
  }
 ],
 "metadata": {
  "kernelspec": {
   "display_name": "Python 3",
   "language": "python",
   "name": "python3"
  },
  "language_info": {
   "codemirror_mode": {
    "name": "ipython",
    "version": 2
   },
   "file_extension": ".py",
   "mimetype": "text/x-python",
   "name": "python",
   "nbconvert_exporter": "python",
   "pygments_lexer": "ipython2",
   "version": "2.7.6"
  }
 },
 "nbformat": 4,
 "nbformat_minor": 0
}
