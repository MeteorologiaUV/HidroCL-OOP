{
 "cells": [
  {
   "cell_type": "code",
   "execution_count": 1,
   "metadata": {
    "collapsed": true,
    "pycharm": {
     "name": "#%%\n"
    }
   },
   "outputs": [
    {
     "name": "stdout",
     "output_type": "stream",
     "text": [
      "0.0.3\n"
     ]
    }
   ],
   "source": [
    "import hidrocl\n",
    "import hidrocl_paths as hcl\n",
    "\n",
    "print(hidrocl.__version__)"
   ]
  },
  {
   "cell_type": "code",
   "execution_count": 2,
   "outputs": [
    {
     "name": "stdout",
     "output_type": "stream",
     "text": [
      "Database not found. Please, add catchment names before creating the database\n",
      "Please, check the database for getting the IDs processed\n",
      "Could not load dataframe, perhaps the database has not been created yet\n",
      "Database not found. Please, add catchment names before creating the database\n"
     ]
    }
   ],
   "source": [
    "pet = hidrocl.HidroCLVariable(\"pet\",\n",
    "                               hcl.et_o_modis_eto_cum_b_d8_p0d,\n",
    "                               hcl.et_o_modis_eto_cum_b_pc)"
   ],
   "metadata": {
    "collapsed": false,
    "pycharm": {
     "name": "#%%\n"
    }
   }
  },
  {
   "cell_type": "code",
   "execution_count": 3,
   "outputs": [
    {
     "name": "stdout",
     "output_type": "stream",
     "text": [
      "Database not found, creating it for /private/nfs2/databases/observed/et_o_modis_eto_cum_b_d8_p0d.csv\n",
      "Database created!\n",
      "Database not found, creating it for /private/nfs2/pcdatabases/observed/et_o_modis_eto_cum_b_pc.csv\n",
      "Database created!\n"
     ]
    }
   ],
   "source": [
    "# creating databases\n",
    "import geopandas as gpd\n",
    "\n",
    "polys = gpd.read_file(hcl.hidrocl_sinusoidal)  # for getting gauge_id values\n",
    "catchment_names = polys.gauge_id.tolist()\n",
    "del polys\n",
    "\n",
    "pet.catchment_names = catchment_names\n",
    "\n",
    "pet.checkdatabase()\n",
    "pet.checkpcdatabase()"
   ],
   "metadata": {
    "collapsed": false,
    "pycharm": {
     "name": "#%%\n"
    }
   }
  },
  {
   "cell_type": "code",
   "execution_count": 4,
   "outputs": [
    {
     "name": "stdout",
     "output_type": "stream",
     "text": [
      "\n",
      "Variable pet.\n",
      "Records: 0.\n",
      "Database path: /private/nfs2/databases/observed/et_o_modis_eto_cum_b_d8_p0d.csv.\n",
      "Pixel count database path: /private/nfs2/pcdatabases/observed/et_o_modis_eto_cum_b_pc.csv.\n",
      "        \n"
     ]
    }
   ],
   "source": [
    "print(pet)"
   ],
   "metadata": {
    "collapsed": false,
    "pycharm": {
     "name": "#%%\n"
    }
   }
  },
  {
   "cell_type": "code",
   "execution_count": 5,
   "outputs": [],
   "source": [
    "mod16 = hidrocl.Mod16a2(pet,\n",
    "                        product_path=hcl.mod16a2_path,\n",
    "                        vector_path=hcl.hidrocl_sinusoidal,\n",
    "                        pet_log=hcl.log_veg_o_modis_ndvi_mean)"
   ],
   "metadata": {
    "collapsed": false,
    "pycharm": {
     "name": "#%%\n"
    }
   }
  },
  {
   "cell_type": "code",
   "execution_count": 6,
   "outputs": [
    {
     "name": "stdout",
     "output_type": "stream",
     "text": [
      "Processing scene A2000049 for pet\n",
      "Time elapsed for A2000049: 31 seconds\n",
      "Processing scene A2000057 for pet\n",
      "Time elapsed for A2000057: 35 seconds\n",
      "Processing scene A2000065 for pet\n",
      "Time elapsed for A2000065: 34 seconds\n"
     ]
    }
   ],
   "source": [
    "mod16.run_extraction(limit=3)"
   ],
   "metadata": {
    "collapsed": false,
    "pycharm": {
     "name": "#%%\n"
    }
   }
  }
 ],
 "metadata": {
  "kernelspec": {
   "display_name": "Python 3",
   "language": "python",
   "name": "python3"
  },
  "language_info": {
   "codemirror_mode": {
    "name": "ipython",
    "version": 2
   },
   "file_extension": ".py",
   "mimetype": "text/x-python",
   "name": "python",
   "nbconvert_exporter": "python",
   "pygments_lexer": "ipython2",
   "version": "2.7.6"
  }
 },
 "nbformat": 4,
 "nbformat_minor": 0
}