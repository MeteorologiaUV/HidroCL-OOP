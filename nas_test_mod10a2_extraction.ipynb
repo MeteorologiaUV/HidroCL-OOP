{
 "cells": [
  {
   "cell_type": "code",
   "execution_count": 1,
   "metadata": {
    "collapsed": true,
    "pycharm": {
     "name": "#%%\n"
    }
   },
   "outputs": [
    {
     "name": "stdout",
     "output_type": "stream",
     "text": [
      "0.0.2\n"
     ]
    }
   ],
   "source": [
    "import hidrocl\n",
    "import hidrocl_paths as hcl\n",
    "print(hidrocl.__version__)"
   ]
  },
  {
   "cell_type": "code",
   "execution_count": 2,
   "outputs": [
    {
     "name": "stdout",
     "output_type": "stream",
     "text": [
      "Database found, using /private/nfs2/databases/observed/snw_o_modis_sca_cum_n_d8_p0d.csv\n",
      "Database found, using /private/nfs2/pcdatabases/observed/snw_o_modis_sca_cum_n_pc.csv\n",
      "Database found, using /private/nfs2/databases/observed/snw_o_modis_sca_cum_s_d8_p0d.csv\n",
      "Database found, using /private/nfs2/pcdatabases/observed/snw_o_modis_sca_cum_s_pc.csv\n"
     ]
    }
   ],
   "source": [
    "nsnow = hidrocl.HidroCLVariable(\"nsnow\",\n",
    "                                hcl.snw_o_modis_sca_cum_n_d8_p0d,\n",
    "                                hcl.snw_o_modis_sca_cum_n_pc)\n",
    "\n",
    "ssnow = hidrocl.HidroCLVariable(\"ssnow\",\n",
    "                                hcl.snw_o_modis_sca_cum_s_d8_p0d,\n",
    "                                hcl.snw_o_modis_sca_cum_s_pc)"
   ],
   "metadata": {
    "collapsed": false,
    "pycharm": {
     "name": "#%%\n"
    }
   }
  },
  {
   "cell_type": "code",
   "execution_count": 3,
   "outputs": [],
   "source": [
    "%%script false --no-raise-error\n",
    "# creating databases\n",
    "import geopandas as gpd\n",
    "\n",
    "polys = gpd.read_file(hcl.hidrocl_sinusoidal)  # for getting gauge_id values\n",
    "catchment_names = polys.gauge_id.tolist()\n",
    "del polys\n",
    "\n",
    "nsnow.catchment_names = catchment_names\n",
    "ssnow.catchment_names = catchment_names\n",
    "\n",
    "nsnow.checkdatabase()\n",
    "nsnow.checkpcdatabase()\n",
    "ssnow.checkdatabase()\n",
    "ssnow.checkpcdatabase()"
   ],
   "metadata": {
    "collapsed": false,
    "pycharm": {
     "name": "#%%\n"
    }
   }
  },
  {
   "cell_type": "code",
   "execution_count": 4,
   "outputs": [
    {
     "name": "stdout",
     "output_type": "stream",
     "text": [
      "\n",
      "Variable nsnow.\n",
      "Records: 0.\n",
      "Database path: /private/nfs2/databases/observed/snw_o_modis_sca_cum_n_d8_p0d.csv.\n",
      "Pixel count database path: /private/nfs2/pcdatabases/observed/snw_o_modis_sca_cum_n_pc.csv.\n",
      "        \n",
      "\n",
      "Variable ssnow.\n",
      "Records: 0.\n",
      "Database path: /private/nfs2/databases/observed/snw_o_modis_sca_cum_s_d8_p0d.csv.\n",
      "Pixel count database path: /private/nfs2/pcdatabases/observed/snw_o_modis_sca_cum_s_pc.csv.\n",
      "        \n"
     ]
    }
   ],
   "source": [
    "print(nsnow)\n",
    "print(ssnow)"
   ],
   "metadata": {
    "collapsed": false,
    "pycharm": {
     "name": "#%%\n"
    }
   }
  },
  {
   "cell_type": "code",
   "execution_count": 6,
   "outputs": [],
   "source": [
    "mod10a2 = hidrocl.Mod10a2(nsnow,ssnow,\n",
    "                          product_path=hcl.mod10a2_path,\n",
    "                        north_vector_path=hcl.hidrocl_north,\n",
    "                        south_vector_path=hcl.hidrocl_south,\n",
    "                        snow_log=hcl.log_snw_o_modis_sca_cum)"
   ],
   "metadata": {
    "collapsed": false,
    "pycharm": {
     "name": "#%%\n"
    }
   }
  },
  {
   "cell_type": "code",
   "execution_count": 7,
   "outputs": [
    {
     "data": {
      "text/plain": "Variable: nsnow. Records: 0"
     },
     "execution_count": 7,
     "metadata": {},
     "output_type": "execute_result"
    }
   ],
   "source": [
    "mod10a2.nsnow"
   ],
   "metadata": {
    "collapsed": false,
    "pycharm": {
     "name": "#%%\n"
    }
   }
  },
  {
   "cell_type": "code",
   "execution_count": null,
   "outputs": [],
   "source": [],
   "metadata": {
    "collapsed": false,
    "pycharm": {
     "name": "#%%\n"
    }
   }
  }
 ],
 "metadata": {
  "kernelspec": {
   "display_name": "Python 3",
   "language": "python",
   "name": "python3"
  },
  "language_info": {
   "codemirror_mode": {
    "name": "ipython",
    "version": 2
   },
   "file_extension": ".py",
   "mimetype": "text/x-python",
   "name": "python",
   "nbconvert_exporter": "python",
   "pygments_lexer": "ipython2",
   "version": "2.7.6"
  }
 },
 "nbformat": 4,
 "nbformat_minor": 0
}