{
 "cells": [
  {
   "cell_type": "code",
   "execution_count": 1,
   "metadata": {
    "collapsed": true,
    "pycharm": {
     "name": "#%%\n"
    }
   },
   "outputs": [
    {
     "name": "stdout",
     "output_type": "stream",
     "text": [
      "0.0.3\n"
     ]
    }
   ],
   "source": [
    "import hidrocl\n",
    "import hidrocl_paths as hcl\n",
    "print(hidrocl.__version__)"
   ]
  },
  {
   "cell_type": "code",
   "execution_count": 2,
   "outputs": [
    {
     "name": "stdout",
     "output_type": "stream",
     "text": [
      "Database found, using /private/nfs2/databases/observed/snw_o_modis_sca_cum_n_d8_p0d.csv\n",
      "Database found, using /private/nfs2/pcdatabases/observed/snw_o_modis_sca_cum_n_pc.csv\n",
      "Database found, using /private/nfs2/databases/observed/snw_o_modis_sca_cum_s_d8_p0d.csv\n",
      "Database found, using /private/nfs2/pcdatabases/observed/snw_o_modis_sca_cum_s_pc.csv\n"
     ]
    }
   ],
   "source": [
    "nsnow = hidrocl.HidroCLVariable(\"nsnow\",\n",
    "                                hcl.snw_o_modis_sca_cum_n_d8_p0d,\n",
    "                                hcl.snw_o_modis_sca_cum_n_pc)\n",
    "\n",
    "ssnow = hidrocl.HidroCLVariable(\"ssnow\",\n",
    "                                hcl.snw_o_modis_sca_cum_s_d8_p0d,\n",
    "                                hcl.snw_o_modis_sca_cum_s_pc)"
   ],
   "metadata": {
    "collapsed": false,
    "pycharm": {
     "name": "#%%\n"
    }
   }
  },
  {
   "cell_type": "code",
   "execution_count": 3,
   "outputs": [],
   "source": [
    "%%script false --no-raise-error\n",
    "# creating databases\n",
    "import geopandas as gpd\n",
    "\n",
    "polys = gpd.read_file(hcl.hidrocl_sinusoidal)  # for getting gauge_id values\n",
    "catchment_names = polys.gauge_id.tolist()\n",
    "del polys\n",
    "\n",
    "nsnow.catchment_names = catchment_names\n",
    "ssnow.catchment_names = catchment_names\n",
    "\n",
    "nsnow.checkdatabase()\n",
    "nsnow.checkpcdatabase()\n",
    "ssnow.checkdatabase()\n",
    "ssnow.checkpcdatabase()"
   ],
   "metadata": {
    "collapsed": false,
    "pycharm": {
     "name": "#%%\n"
    }
   }
  },
  {
   "cell_type": "code",
   "execution_count": 4,
   "outputs": [
    {
     "name": "stdout",
     "output_type": "stream",
     "text": [
      "\n",
      "Variable nsnow.\n",
      "Records: 3.\n",
      "Database path: /private/nfs2/databases/observed/snw_o_modis_sca_cum_n_d8_p0d.csv.\n",
      "Pixel count database path: /private/nfs2/pcdatabases/observed/snw_o_modis_sca_cum_n_pc.csv.\n",
      "        \n",
      "\n",
      "Variable ssnow.\n",
      "Records: 3.\n",
      "Database path: /private/nfs2/databases/observed/snw_o_modis_sca_cum_s_d8_p0d.csv.\n",
      "Pixel count database path: /private/nfs2/pcdatabases/observed/snw_o_modis_sca_cum_s_pc.csv.\n",
      "        \n"
     ]
    }
   ],
   "source": [
    "print(nsnow)\n",
    "print(ssnow)"
   ],
   "metadata": {
    "collapsed": false,
    "pycharm": {
     "name": "#%%\n"
    }
   }
  },
  {
   "cell_type": "code",
   "execution_count": 5,
   "outputs": [],
   "source": [
    "mod10 = hidrocl.Mod10a2(nsnow,ssnow,\n",
    "                          product_path=hcl.mod10a2_path,\n",
    "                          north_vector_path=hcl.hidrocl_north,\n",
    "                          south_vector_path=hcl.hidrocl_south,\n",
    "                          snow_log=hcl.log_snw_o_modis_sca_cum)"
   ],
   "metadata": {
    "collapsed": false,
    "pycharm": {
     "name": "#%%\n"
    }
   }
  },
  {
   "cell_type": "code",
   "execution_count": 6,
   "outputs": [
    {
     "name": "stdout",
     "output_type": "stream",
     "text": [
      "Processing scene A2022065 for snow\n",
      "Time elapsed for A2022065: 49 seconds\n",
      "Processing scene A2015009 for snow\n",
      "Time elapsed for A2015009: 49 seconds\n",
      "Processing scene A2018017 for snow\n",
      "Time elapsed for A2018017: 47 seconds\n"
     ]
    }
   ],
   "source": [
    "mod10.run_extraction(limit=3)"
   ],
   "metadata": {
    "collapsed": false,
    "pycharm": {
     "name": "#%%\n"
    }
   }
  },
  {
   "cell_type": "code",
   "execution_count": 7,
   "outputs": [
    {
     "name": "stdout",
     "output_type": "stream",
     "text": [
      "             name_id  1001001  1001002  1001003  1020002  1020003  1021001  \\\n",
      "date                                                                         \n",
      "2000-02-18  A2000049        0        0        0        8        6        3   \n",
      "2000-02-26  A2000057       22       15       27       21       20        7   \n",
      "2000-03-05  A2000065       45       66       57       62       55       23   \n",
      "\n",
      "            1021002  1041002  1044001  ...  12820001  12825002  12861001  \\\n",
      "date                                   ...                                 \n",
      "2000-02-18        0        0        0  ...         0         0         0   \n",
      "2000-02-26        0        3        1  ...         0         1         0   \n",
      "2000-03-05        0        6        2  ...         0         2         0   \n",
      "\n",
      "            12863002  12865001  12872001  12876001  12876004  12878001  \\\n",
      "date                                                                     \n",
      "2000-02-18         0         0         0         0         0         0   \n",
      "2000-02-26         0         0         0         1         0         0   \n",
      "2000-03-05         0         0         0         0         0         0   \n",
      "\n",
      "            12930001  \n",
      "date                  \n",
      "2000-02-18         0  \n",
      "2000-02-26         0  \n",
      "2000-03-05         0  \n",
      "\n",
      "[3 rows x 433 columns]\n"
     ]
    }
   ],
   "source": [
    "print(mod10.nsnow.observations)"
   ],
   "metadata": {
    "collapsed": false,
    "pycharm": {
     "name": "#%%\n"
    }
   }
  },
  {
   "cell_type": "code",
   "execution_count": 8,
   "outputs": [
    {
     "name": "stdout",
     "output_type": "stream",
     "text": [
      "Database found, using /private/nfs2/databases/observed/snw_o_modis_sca_cum_n_d8_p0d.csv\n",
      "Database found, using /private/nfs2/databases/observed/snw_o_modis_sca_cum_s_d8_p0d.csv\n"
     ]
    }
   ],
   "source": [
    "mod10.nsnow.checkdatabase()\n",
    "mod10.ssnow.checkdatabase()"
   ],
   "metadata": {
    "collapsed": false,
    "pycharm": {
     "name": "#%%\n"
    }
   }
  },
  {
   "cell_type": "code",
   "execution_count": 9,
   "outputs": [
    {
     "name": "stdout",
     "output_type": "stream",
     "text": [
      "             name_id  1001001  1001002  1001003  1020002  1020003  1021001  \\\n",
      "date                                                                         \n",
      "2000-02-18  A2000049        0        0        0        8        6        3   \n",
      "2000-02-26  A2000057       22       15       27       21       20        7   \n",
      "2000-03-05  A2000065       45       66       57       62       55       23   \n",
      "2022-03-06  A2022065       19       13       29       21       16        9   \n",
      "2015-01-09  A2015009       19       12       31       25       20        5   \n",
      "2018-01-17  A2018017       34       40       35       38       38       18   \n",
      "\n",
      "            1021002  1041002  1044001  ...  12820001  12825002  12861001  \\\n",
      "date                                   ...                                 \n",
      "2000-02-18        0        0        0  ...         0         0         0   \n",
      "2000-02-26        0        3        1  ...         0         1         0   \n",
      "2000-03-05        0        6        2  ...         0         2         0   \n",
      "2022-03-06        0        3        3  ...        29         5         0   \n",
      "2015-01-09        0        5        0  ...         0         4         0   \n",
      "2018-01-17        0        3        1  ...         0         2         0   \n",
      "\n",
      "            12863002  12865001  12872001  12876001  12876004  12878001  \\\n",
      "date                                                                     \n",
      "2000-02-18         0         0         0         0         0         0   \n",
      "2000-02-26         0         0         0         1         0         0   \n",
      "2000-03-05         0         0         0         0         0         0   \n",
      "2022-03-06         0         1         0         3         1         1   \n",
      "2015-01-09         0         0         0         1         0         0   \n",
      "2018-01-17         0         0         0         1         0         0   \n",
      "\n",
      "            12930001  \n",
      "date                  \n",
      "2000-02-18         0  \n",
      "2000-02-26         0  \n",
      "2000-03-05         0  \n",
      "2022-03-06         0  \n",
      "2015-01-09        10  \n",
      "2018-01-17         2  \n",
      "\n",
      "[6 rows x 433 columns]\n"
     ]
    }
   ],
   "source": [
    "print(mod10.nsnow.observations)"
   ],
   "metadata": {
    "collapsed": false,
    "pycharm": {
     "name": "#%%\n"
    }
   }
  }
 ],
 "metadata": {
  "kernelspec": {
   "display_name": "Python 3",
   "language": "python",
   "name": "python3"
  },
  "language_info": {
   "codemirror_mode": {
    "name": "ipython",
    "version": 2
   },
   "file_extension": ".py",
   "mimetype": "text/x-python",
   "name": "python",
   "nbconvert_exporter": "python",
   "pygments_lexer": "ipython2",
   "version": "2.7.6"
  }
 },
 "nbformat": 4,
 "nbformat_minor": 0
}