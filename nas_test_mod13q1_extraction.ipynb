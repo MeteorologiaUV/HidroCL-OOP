{
 "cells": [
  {
   "cell_type": "code",
   "execution_count": 1,
   "metadata": {
    "collapsed": true,
    "pycharm": {
     "name": "#%%\n"
    }
   },
   "outputs": [
    {
     "name": "stdout",
     "output_type": "stream",
     "text": [
      "0.0.3\n"
     ]
    }
   ],
   "source": [
    "import hidrocl\n",
    "import hidrocl_paths as hcl\n",
    "print(hidrocl.__version__)"
   ]
  },
  {
   "cell_type": "code",
   "execution_count": 2,
   "outputs": [
    {
     "name": "stdout",
     "output_type": "stream",
     "text": [
      "Database found, using /private/nfs2/databases/observed/veg_o_modis_ndvi_mean_b_d16_p0d.csv\n",
      "Database found, using /private/nfs2/pcdatabases/observed/veg_o_modis_ndvi_mean_pc.csv\n",
      "Database found, using /private/nfs2/databases/observed/veg_o_modis_evi_mean_b_d16_p0d.csv\n",
      "Database found, using /private/nfs2/pcdatabases/observed/veg_o_modis_evi_mean_pc.csv\n",
      "Database found, using /private/nfs2/databases/observed/veg_o_int_nbr_mean_b_d16_p0d.csv\n",
      "Database found, using /private/nfs2/pcdatabases/observed/veg_o_int_nbr_mean_pc.csv\n"
     ]
    }
   ],
   "source": [
    "ndvi = hidrocl.HidroCLVariable(\"ndvi\",\n",
    "                               hcl.veg_o_modis_ndvi_mean_b_d16_p0d,\n",
    "                               hcl.veg_o_modis_ndvi_mean_pc)\n",
    "\n",
    "evi = hidrocl.HidroCLVariable(\"evi\",\n",
    "                              hcl.veg_o_modis_evi_mean_b_d16_p0d,\n",
    "                              hcl.veg_o_modis_evi_mean_pc)\n",
    "\n",
    "nbr = hidrocl.HidroCLVariable(\"nbr\",\n",
    "                              hcl.veg_o_int_nbr_mean_b_d16_p0d,\n",
    "                              hcl.veg_o_int_nbr_mean_pc)"
   ],
   "metadata": {
    "collapsed": false,
    "pycharm": {
     "name": "#%%\n"
    }
   }
  },
  {
   "cell_type": "code",
   "execution_count": 3,
   "outputs": [
    {
     "name": "stdout",
     "output_type": "stream",
     "text": [
      "\n",
      "Variable ndvi.\n",
      "Records: 6.\n",
      "Database path: /private/nfs2/databases/observed/veg_o_modis_ndvi_mean_b_d16_p0d.csv.\n",
      "Pixel count database path: /private/nfs2/pcdatabases/observed/veg_o_modis_ndvi_mean_pc.csv.\n",
      "        \n",
      "\n",
      "Variable evi.\n",
      "Records: 6.\n",
      "Database path: /private/nfs2/databases/observed/veg_o_modis_evi_mean_b_d16_p0d.csv.\n",
      "Pixel count database path: /private/nfs2/pcdatabases/observed/veg_o_modis_evi_mean_pc.csv.\n",
      "        \n",
      "\n",
      "Variable nbr.\n",
      "Records: 6.\n",
      "Database path: /private/nfs2/databases/observed/veg_o_int_nbr_mean_b_d16_p0d.csv.\n",
      "Pixel count database path: /private/nfs2/pcdatabases/observed/veg_o_int_nbr_mean_pc.csv.\n",
      "        \n"
     ]
    }
   ],
   "source": [
    "print(ndvi)\n",
    "print(evi)\n",
    "print(nbr)"
   ],
   "metadata": {
    "collapsed": false,
    "pycharm": {
     "name": "#%%\n"
    }
   }
  },
  {
   "cell_type": "code",
   "execution_count": 4,
   "outputs": [],
   "source": [
    "mod13 = hidrocl.Mod13q1(ndvi, evi, nbr,\n",
    "                        product_path=hcl.mod13q1_path,\n",
    "                        vector_path=hcl.hidrocl_sinusoidal,\n",
    "                        ndvi_log=hcl.log_veg_o_modis_ndvi_mean,\n",
    "                        evi_log=hcl.log_veg_o_modis_evi_mean,\n",
    "                        nbr_log=hcl.log_veg_o_int_nbr_mean)"
   ],
   "metadata": {
    "collapsed": false,
    "pycharm": {
     "name": "#%%\n"
    }
   }
  },
  {
   "cell_type": "code",
   "execution_count": 5,
   "outputs": [
    {
     "name": "stdout",
     "output_type": "stream",
     "text": [
      "Processing scene A2006161 for ndvi\n",
      "Time elapsed for A2006161: 133 seconds\n",
      "Processing scene A2006161 for evi\n",
      "Time elapsed for A2006161: 97 seconds\n",
      "Processing scene A2006161 for nbr\n",
      "Time elapsed for A2006161: 140 seconds\n",
      "Processing scene A2019177 for ndvi\n",
      "Time elapsed for A2019177: 138 seconds\n",
      "Processing scene A2019177 for evi\n",
      "Time elapsed for A2019177: 119 seconds\n",
      "Processing scene A2019177 for nbr\n",
      "Time elapsed for A2019177: 135 seconds\n",
      "Processing scene A2008081 for ndvi\n",
      "Time elapsed for A2008081: 120 seconds\n",
      "Processing scene A2008081 for evi\n",
      "Time elapsed for A2008081: 109 seconds\n",
      "Processing scene A2008081 for nbr\n",
      "Time elapsed for A2008081: 122 seconds\n"
     ]
    }
   ],
   "source": [
    "mod13.run_extraction(limit=3)"
   ],
   "metadata": {
    "collapsed": false,
    "pycharm": {
     "name": "#%%\n"
    }
   }
  },
  {
   "cell_type": "code",
   "execution_count": 6,
   "outputs": [
    {
     "name": "stdout",
     "output_type": "stream",
     "text": [
      "             name_id  1001001  1001002  1001003  1020002  1020003  1021001  \\\n",
      "date                                                                         \n",
      "2000-02-18  A2000049       49      101       67       50       85      112   \n",
      "2000-03-05  A2000065       87      130      109       65       96      119   \n",
      "2000-03-21  A2000081      108      144      125       80      110      126   \n",
      "2000-04-06  A2000097      110      139      122       79      106      120   \n",
      "2000-04-22  A2000113       92      126      107       61       88      111   \n",
      "2000-05-08  A2000129       88      121      102       74       97      115   \n",
      "\n",
      "            1021002  1041002  1044001  ...  12820001  12825002  12861001  \\\n",
      "date                                   ...                                 \n",
      "2000-02-18       81      109      107  ...       776       401       460   \n",
      "2000-03-05       94      114      115  ...       844       364       507   \n",
      "2000-03-21       98      116      114  ...       753       495       541   \n",
      "2000-04-06       94      113      115  ...       680       415       535   \n",
      "2000-04-22       88      108      111  ...       626       391       530   \n",
      "2000-05-08       94      113      111  ...       614       290       525   \n",
      "\n",
      "            12863002  12865001  12872001  12876001  12876004  12878001  \\\n",
      "date                                                                     \n",
      "2000-02-18       542       647       595       636       671       658   \n",
      "2000-03-05       610       674       618       697       770       743   \n",
      "2000-03-21       620       682       627       678       768       731   \n",
      "2000-04-06       607       603       562       543       600       557   \n",
      "2000-04-22       581       592       524       514       565       549   \n",
      "2000-05-08       545       545       498       492       521       486   \n",
      "\n",
      "            12930001  \n",
      "date                  \n",
      "2000-02-18       188  \n",
      "2000-03-05       468  \n",
      "2000-03-21       407  \n",
      "2000-04-06       375  \n",
      "2000-04-22       376  \n",
      "2000-05-08       270  \n",
      "\n",
      "[6 rows x 433 columns]\n"
     ]
    }
   ],
   "source": [
    "print(mod13.ndvi.observations)"
   ],
   "metadata": {
    "collapsed": false,
    "pycharm": {
     "name": "#%%\n"
    }
   }
  },
  {
   "cell_type": "code",
   "execution_count": 7,
   "outputs": [
    {
     "name": "stdout",
     "output_type": "stream",
     "text": [
      "Database found, using /private/nfs2/databases/observed/veg_o_modis_ndvi_mean_b_d16_p0d.csv\n",
      "Database found, using /private/nfs2/databases/observed/veg_o_modis_evi_mean_b_d16_p0d.csv\n",
      "Database found, using /private/nfs2/databases/observed/veg_o_int_nbr_mean_b_d16_p0d.csv\n"
     ]
    }
   ],
   "source": [
    "mod13.ndvi.checkdatabase()\n",
    "mod13.evi.checkdatabase()\n",
    "mod13.nbr.checkdatabase()"
   ],
   "metadata": {
    "collapsed": false,
    "pycharm": {
     "name": "#%%\n"
    }
   }
  },
  {
   "cell_type": "code",
   "execution_count": 8,
   "outputs": [
    {
     "name": "stdout",
     "output_type": "stream",
     "text": [
      "             name_id  1001001  1001002  1001003  1020002  1020003  1021001  \\\n",
      "date                                                                         \n",
      "2000-02-18  A2000049       49      101       67       50       85      112   \n",
      "2000-03-05  A2000065       87      130      109       65       96      119   \n",
      "2000-03-21  A2000081      108      144      125       80      110      126   \n",
      "2000-04-06  A2000097      110      139      122       79      106      120   \n",
      "2000-04-22  A2000113       92      126      107       61       88      111   \n",
      "2000-05-08  A2000129       88      121      102       74       97      115   \n",
      "2006-06-10  A2006161       95      125      105       76       97      112   \n",
      "2019-06-26  A2019177      105      126      110       83      101      115   \n",
      "2008-03-21  A2008081      119      141      127       87      112      120   \n",
      "\n",
      "            1021002  1041002  1044001  ...  12820001  12825002  12861001  \\\n",
      "date                                   ...                                 \n",
      "2000-02-18       81      109      107  ...       776       401       460   \n",
      "2000-03-05       94      114      115  ...       844       364       507   \n",
      "2000-03-21       98      116      114  ...       753       495       541   \n",
      "2000-04-06       94      113      115  ...       680       415       535   \n",
      "2000-04-22       88      108      111  ...       626       391       530   \n",
      "2000-05-08       94      113      111  ...       614       290       525   \n",
      "2006-06-10       91      113      115  ...       349        97       395   \n",
      "2019-06-26       96      116      113  ...       222        41       110   \n",
      "2008-03-21      102      119      120  ...       833       543       585   \n",
      "\n",
      "            12863002  12865001  12872001  12876001  12876004  12878001  \\\n",
      "date                                                                     \n",
      "2000-02-18       542     647.0     595.0       636       671       658   \n",
      "2000-03-05       610     674.0     618.0       697       770       743   \n",
      "2000-03-21       620     682.0     627.0       678       768       731   \n",
      "2000-04-06       607     603.0     562.0       543       600       557   \n",
      "2000-04-22       581     592.0     524.0       514       565       549   \n",
      "2000-05-08       545     545.0     498.0       492       521       486   \n",
      "2006-06-10       461     110.0      27.0        92       113        81   \n",
      "2019-06-26        11       NaN       NaN         6        29        18   \n",
      "2008-03-21       691     697.0     640.0       674       711       684   \n",
      "\n",
      "            12930001  \n",
      "date                  \n",
      "2000-02-18       188  \n",
      "2000-03-05       468  \n",
      "2000-03-21       407  \n",
      "2000-04-06       375  \n",
      "2000-04-22       376  \n",
      "2000-05-08       270  \n",
      "2006-06-10        87  \n",
      "2019-06-26        48  \n",
      "2008-03-21       539  \n",
      "\n",
      "[9 rows x 433 columns]\n"
     ]
    }
   ],
   "source": [
    "print(mod13.ndvi.observations)"
   ],
   "metadata": {
    "collapsed": false,
    "pycharm": {
     "name": "#%%\n"
    }
   }
  }
 ],
 "metadata": {
  "kernelspec": {
   "display_name": "Python 3",
   "language": "python",
   "name": "python3"
  },
  "language_info": {
   "codemirror_mode": {
    "name": "ipython",
    "version": 2
   },
   "file_extension": ".py",
   "mimetype": "text/x-python",
   "name": "python",
   "nbconvert_exporter": "python",
   "pygments_lexer": "ipython2",
   "version": "2.7.6"
  }
 },
 "nbformat": 4,
 "nbformat_minor": 0
}