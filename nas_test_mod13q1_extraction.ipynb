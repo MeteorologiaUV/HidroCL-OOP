{
 "cells": [
  {
   "cell_type": "code",
   "execution_count": 1,
   "metadata": {
    "collapsed": true,
    "pycharm": {
     "name": "#%%\n"
    }
   },
   "outputs": [
    {
     "name": "stdout",
     "output_type": "stream",
     "text": [
      "0.0.2\n"
     ]
    }
   ],
   "source": [
    "import hidrocl\n",
    "import hidrocl_paths as hcl\n",
    "print(hidrocl.__version__)"
   ]
  },
  {
   "cell_type": "code",
   "execution_count": 2,
   "outputs": [
    {
     "name": "stdout",
     "output_type": "stream",
     "text": [
      "Database not found. Please, add catchment names before creating the database\n",
      "Please, check the database for getting the IDs processed\n",
      "Could not load dataframe, perhaps the database has not been created yet\n",
      "Database not found. Please, add catchment names before creating the database\n",
      "\n",
      "Variable ndvi.\n",
      "Records: 0.\n",
      "Database path: /private/nfs2/databases/observed/veg_o_modis_ndvi_mean_b_d16_p0d.csv.\n",
      "Pixel count database path: /private/nfs2/pcdatabases/observed/veg_o_modis_ndvi_mean_pc.csv.\n",
      "        \n"
     ]
    }
   ],
   "source": [
    "ndvi = hidrocl.HidroCLVariable(\"ndvi\",\n",
    "                               hcl.veg_o_modis_ndvi_mean_b_d16_p0d,\n",
    "                               hcl.veg_o_modis_ndvi_mean_pc)\n",
    "\n",
    "print(ndvi)"
   ],
   "metadata": {
    "collapsed": false,
    "pycharm": {
     "name": "#%%\n"
    }
   }
  },
  {
   "cell_type": "code",
   "execution_count": 2,
   "outputs": [],
   "source": [],
   "metadata": {
    "collapsed": false,
    "pycharm": {
     "name": "#%%\n"
    }
   }
  }
 ],
 "metadata": {
  "kernelspec": {
   "display_name": "Python 3",
   "language": "python",
   "name": "python3"
  },
  "language_info": {
   "codemirror_mode": {
    "name": "ipython",
    "version": 2
   },
   "file_extension": ".py",
   "mimetype": "text/x-python",
   "name": "python",
   "nbconvert_exporter": "python",
   "pygments_lexer": "ipython2",
   "version": "2.7.6"
  }
 },
 "nbformat": 4,
 "nbformat_minor": 0
}