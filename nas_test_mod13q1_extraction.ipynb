{
 "cells": [
  {
   "cell_type": "code",
   "execution_count": 1,
   "metadata": {
    "collapsed": true,
    "pycharm": {
     "name": "#%%\n"
    }
   },
   "outputs": [
    {
     "name": "stdout",
     "output_type": "stream",
     "text": [
      "0.0.3\n"
     ]
    }
   ],
   "source": [
    "import hidrocl\n",
    "import hidrocl_paths as hcl\n",
    "print(hidrocl.__version__)"
   ]
  },
  {
   "cell_type": "code",
   "execution_count": 2,
   "outputs": [
    {
     "name": "stdout",
     "output_type": "stream",
     "text": [
      "Database found, using /private/nfs2/databases/observed/veg_o_modis_ndvi_mean_b_d16_p0d.csv\n",
      "Database found, using /private/nfs2/pcdatabases/observed/veg_o_modis_ndvi_mean_pc.csv\n",
      "Database found, using /private/nfs2/databases/observed/veg_o_modis_evi_mean_b_d16_p0d.csv\n",
      "Database found, using /private/nfs2/pcdatabases/observed/veg_o_modis_evi_mean_pc.csv\n",
      "Database found, using /private/nfs2/databases/observed/veg_o_int_nbr_mean_b_d16_p0d.csv\n",
      "Database found, using /private/nfs2/pcdatabases/observed/veg_o_int_nbr_mean_pc.csv\n"
     ]
    }
   ],
   "source": [
    "ndvi = hidrocl.HidroCLVariable(\"ndvi\",\n",
    "                               hcl.veg_o_modis_ndvi_mean_b_d16_p0d,\n",
    "                               hcl.veg_o_modis_ndvi_mean_pc)\n",
    "\n",
    "evi = hidrocl.HidroCLVariable(\"evi\",\n",
    "                              hcl.veg_o_modis_evi_mean_b_d16_p0d,\n",
    "                              hcl.veg_o_modis_evi_mean_pc)\n",
    "\n",
    "nbr = hidrocl.HidroCLVariable(\"nbr\",\n",
    "                              hcl.veg_o_int_nbr_mean_b_d16_p0d,\n",
    "                              hcl.veg_o_int_nbr_mean_pc)"
   ],
   "metadata": {
    "collapsed": false,
    "pycharm": {
     "name": "#%%\n"
    }
   }
  },
  {
   "cell_type": "code",
   "execution_count": 3,
   "outputs": [
    {
     "name": "stdout",
     "output_type": "stream",
     "text": [
      "\n",
      "Variable ndvi.\n",
      "Records: 0.\n",
      "Database path: /private/nfs2/databases/observed/veg_o_modis_ndvi_mean_b_d16_p0d.csv.\n",
      "Pixel count database path: /private/nfs2/pcdatabases/observed/veg_o_modis_ndvi_mean_pc.csv.\n",
      "        \n",
      "\n",
      "Variable evi.\n",
      "Records: 0.\n",
      "Database path: /private/nfs2/databases/observed/veg_o_modis_evi_mean_b_d16_p0d.csv.\n",
      "Pixel count database path: /private/nfs2/pcdatabases/observed/veg_o_modis_evi_mean_pc.csv.\n",
      "        \n",
      "\n",
      "Variable nbr.\n",
      "Records: 0.\n",
      "Database path: /private/nfs2/databases/observed/veg_o_int_nbr_mean_b_d16_p0d.csv.\n",
      "Pixel count database path: /private/nfs2/pcdatabases/observed/veg_o_int_nbr_mean_pc.csv.\n",
      "        \n"
     ]
    }
   ],
   "source": [
    "print(ndvi)\n",
    "print(evi)\n",
    "print(nbr)"
   ],
   "metadata": {
    "collapsed": false,
    "pycharm": {
     "name": "#%%\n"
    }
   }
  },
  {
   "cell_type": "code",
   "execution_count": 4,
   "outputs": [],
   "source": [
    "mod13 = hidrocl.Mod13q1(ndvi, evi, nbr,\n",
    "                        product_path=hcl.mod13q1_path,\n",
    "                        vector_path=hcl.hidrocl_sinusoidal,\n",
    "                        ndvi_log=hcl.log_veg_o_modis_ndvi_mean,\n",
    "                        evi_log=hcl.log_veg_o_modis_evi_mean,\n",
    "                        nbr_log=hcl.log_veg_o_int_nbr_mean)"
   ],
   "metadata": {
    "collapsed": false,
    "pycharm": {
     "name": "#%%\n"
    }
   }
  },
  {
   "cell_type": "code",
   "execution_count": 5,
   "outputs": [
    {
     "name": "stdout",
     "output_type": "stream",
     "text": [
      "Processing scene A2000049 for ndvi\n",
      "Time elapsed for A2000049: 119 seconds\n",
      "Processing scene A2000049 for evi\n",
      "Time elapsed for A2000049: 107 seconds\n",
      "Processing scene A2000049 for nbr\n",
      "Time elapsed for A2000049: 123 seconds\n",
      "Processing scene A2000065 for ndvi\n",
      "Time elapsed for A2000065: 121 seconds\n",
      "Processing scene A2000065 for evi\n",
      "Time elapsed for A2000065: 110 seconds\n",
      "Processing scene A2000065 for nbr\n",
      "Time elapsed for A2000065: 124 seconds\n",
      "Processing scene A2000081 for ndvi\n",
      "Time elapsed for A2000081: 116 seconds\n",
      "Processing scene A2000081 for evi\n",
      "Time elapsed for A2000081: 115 seconds\n",
      "Processing scene A2000081 for nbr\n",
      "Time elapsed for A2000081: 129 seconds\n"
     ]
    }
   ],
   "source": [
    "mod13.run_extraction(limit=3)"
   ],
   "metadata": {
    "collapsed": false,
    "pycharm": {
     "name": "#%%\n"
    }
   }
  },
  {
   "cell_type": "code",
   "execution_count": 6,
   "outputs": [
    {
     "name": "stdout",
     "output_type": "stream",
     "text": [
      "Empty DataFrame\n",
      "Columns: [name_id, 1001001, 1001002, 1001003, 1020002, 1020003, 1021001, 1021002, 1041002, 1044001, 1050002, 1050004, 1201001, 1201003, 1201005, 1210001, 1211001, 1300009, 1310002, 1410004, 1502002, 1502008, 1610004, 1730002, 1730003, 1730007, 1730012, 2101001, 2103001, 2103002, 2103014, 2104002, 2104003, 2104013, 2105001, 2105002, 2105005, 2105007, 2110001, 2110002, 2110004, 2110031, 2112005, 2112006, 2112007, 2113001, 2120001, 2510001, 3022001, 3041001, 3041002, 3041003, 3041004, 3041005, 3050001, 3404001, 3414001, 3421001, 3430001, 3430003, 3431001, 3434003, 3450001, 3453001, 3802001, 3804002, 3806001, 3814003, 3815001, 3815002, 3820001, 3820002, 3820003, 3825001, 4301002, 4302001, 4308001, 4311001, 4313001, 4314002, 4320001, 4323001, 4501001, 4503001, 4511002, 4512001, 4513001, 4514001, 4515002, 4520001, 4522002, 4523002, 4530001, 4531002, 4532001, 4533002, 4537001, 4558001, 4703002, 4704001, ...]\n",
      "Index: []\n",
      "\n",
      "[0 rows x 433 columns]\n"
     ]
    }
   ],
   "source": [
    "print(mod13.ndvi.observations)"
   ],
   "metadata": {
    "collapsed": false,
    "pycharm": {
     "name": "#%%\n"
    }
   }
  },
  {
   "cell_type": "code",
   "execution_count": 7,
   "outputs": [
    {
     "name": "stdout",
     "output_type": "stream",
     "text": [
      "Database found, using /private/nfs2/databases/observed/veg_o_modis_ndvi_mean_b_d16_p0d.csv\n",
      "Database found, using /private/nfs2/databases/observed/veg_o_modis_evi_mean_b_d16_p0d.csv\n",
      "Database found, using /private/nfs2/databases/observed/veg_o_int_nbr_mean_b_d16_p0d.csv\n"
     ]
    }
   ],
   "source": [
    "mod13.ndvi.checkdatabase()\n",
    "mod13.evi.checkdatabase()\n",
    "mod13.nbr.checkdatabase()"
   ],
   "metadata": {
    "collapsed": false,
    "pycharm": {
     "name": "#%%\n"
    }
   }
  },
  {
   "cell_type": "code",
   "execution_count": 8,
   "outputs": [
    {
     "name": "stdout",
     "output_type": "stream",
     "text": [
      "             name_id  1001001  1001002  1001003  1020002  1020003  1021001  \\\n",
      "date                                                                         \n",
      "2000-02-18  A2000049       49      101       67       50       85      112   \n",
      "2000-03-05  A2000065       87      130      109       65       96      119   \n",
      "2000-03-21  A2000081      108      144      125       80      110      126   \n",
      "\n",
      "            1021002  1041002  1044001  ...  12820001  12825002  12861001  \\\n",
      "date                                   ...                                 \n",
      "2000-02-18       81      109      107  ...       776       401       460   \n",
      "2000-03-05       94      114      115  ...       844       364       507   \n",
      "2000-03-21       98      116      114  ...       753       495       541   \n",
      "\n",
      "            12863002  12865001  12872001  12876001  12876004  12878001  \\\n",
      "date                                                                     \n",
      "2000-02-18       542       647       595       636       671       658   \n",
      "2000-03-05       610       674       618       697       770       743   \n",
      "2000-03-21       620       682       627       678       768       731   \n",
      "\n",
      "            12930001  \n",
      "date                  \n",
      "2000-02-18       188  \n",
      "2000-03-05       468  \n",
      "2000-03-21       407  \n",
      "\n",
      "[3 rows x 433 columns]\n"
     ]
    }
   ],
   "source": [
    "print(mod13.ndvi.observations)"
   ],
   "metadata": {
    "collapsed": false,
    "pycharm": {
     "name": "#%%\n"
    }
   }
  }
 ],
 "metadata": {
  "kernelspec": {
   "display_name": "Python 3",
   "language": "python",
   "name": "python3"
  },
  "language_info": {
   "codemirror_mode": {
    "name": "ipython",
    "version": 2
   },
   "file_extension": ".py",
   "mimetype": "text/x-python",
   "name": "python",
   "nbconvert_exporter": "python",
   "pygments_lexer": "ipython2",
   "version": "2.7.6"
  }
 },
 "nbformat": 4,
 "nbformat_minor": 0
}