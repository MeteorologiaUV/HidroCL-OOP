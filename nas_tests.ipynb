{
 "cells": [
  {
   "cell_type": "code",
   "execution_count": 1,
   "metadata": {
    "collapsed": true,
    "pycharm": {
     "name": "#%%\n"
    }
   },
   "outputs": [],
   "source": [
    "import hidrocl\n",
    "import hidrocl_paths as hcl"
   ]
  },
  {
   "cell_type": "code",
   "execution_count": 2,
   "outputs": [
    {
     "name": "stdout",
     "output_type": "stream",
     "text": [
      "0.0.1\n",
      "https://github.com/aldotapia\n",
      "Downloading and processing HidroCL variables\n"
     ]
    }
   ],
   "source": [
    "print(hidrocl.__version__)\n",
    "print(hidrocl.__uri__)\n",
    "print(hidrocl.__summary__)"
   ],
   "metadata": {
    "collapsed": false,
    "pycharm": {
     "name": "#%%\n"
    }
   }
  },
  {
   "cell_type": "code",
   "execution_count": 3,
   "outputs": [
    {
     "name": "stdout",
     "output_type": "stream",
     "text": [
      "<class 'hidrocl.variables.HidroCLVariable'>\n"
     ]
    }
   ],
   "source": [
    "print(hidrocl.HidroCLVariable)"
   ],
   "metadata": {
    "collapsed": false,
    "pycharm": {
     "name": "#%%\n"
    }
   }
  },
  {
   "cell_type": "code",
   "execution_count": 4,
   "outputs": [
    {
     "name": "stdout",
     "output_type": "stream",
     "text": [
      "Database found, using /private/nfs2/databases/observed/veg_o_modis_ndvi_mean_b_d16_p0d.csv\n",
      "Database found, using /private/nfs2/pcdatabases/observed/veg_o_modis_ndvi_mean_pc.csv\n",
      "\n",
      "Variable ndvi.\n",
      "Records: 513.\n",
      "Database path: /private/nfs2/databases/observed/veg_o_modis_ndvi_mean_b_d16_p0d.csv.\n",
      "Pixel count database path: /private/nfs2/pcdatabases/observed/veg_o_modis_ndvi_mean_pc.csv.\n",
      "        \n"
     ]
    }
   ],
   "source": [
    "ndvi = hidrocl.HidroCLVariable(\"ndvi\",\n",
    "                               hcl.veg_o_modis_ndvi_mean_b_d16_p0d,\n",
    "                               hcl.veg_o_modis_ndvi_mean_pc)\n",
    "\n",
    "print(ndvi)"
   ],
   "metadata": {
    "collapsed": false,
    "pycharm": {
     "name": "#%%\n"
    }
   }
  },
  {
   "cell_type": "code",
   "execution_count": 5,
   "outputs": [
    {
     "name": "stdout",
     "output_type": "stream",
     "text": [
      "             name_id  1001001  1001002  1001003  1020002  1020003  1021001  \\\n",
      "date                                                                         \n",
      "2000-02-18  A2000049       49      101       67       50       85      112   \n",
      "2000-03-05  A2000065       87      130      109       65       96      119   \n",
      "2000-03-21  A2000081      108      144      125       80      110      126   \n",
      "2000-04-06  A2000097      110      139      122       79      106      120   \n",
      "2000-04-22  A2000113       92      126      107       61       88      111   \n",
      "...              ...      ...      ...      ...      ...      ...      ...   \n",
      "2022-04-07  A2022097      111      141      120       88      112      121   \n",
      "2022-04-23  A2022113      103      134      114       88      109      118   \n",
      "2022-05-09  A2022129       97      128      108       79      100      114   \n",
      "2022-05-25  A2022145       91      124      104       79       99      113   \n",
      "2022-06-10  A2022161       86      118       97       77       96      110   \n",
      "\n",
      "            1021002  1041002  1044001  ...  12820001  12825002  12861001  \\\n",
      "date                                   ...                                 \n",
      "2000-02-18       81      109      107  ...       776       401     460.0   \n",
      "2000-03-05       94      114      115  ...       844       364     507.0   \n",
      "2000-03-21       98      116      114  ...       753       495     541.0   \n",
      "2000-04-06       94      113      115  ...       680       415     535.0   \n",
      "2000-04-22       88      108      111  ...       626       391     530.0   \n",
      "...             ...      ...      ...  ...       ...       ...       ...   \n",
      "2022-04-07      100      123      122  ...       595       408     500.0   \n",
      "2022-04-23       94      122      120  ...       597       296     502.0   \n",
      "2022-05-09       94      118      117  ...       536       257     466.0   \n",
      "2022-05-25       93      118      117  ...       430       150     416.0   \n",
      "2022-06-10       91      115      114  ...       346        86     372.0   \n",
      "\n",
      "            12863002  12865001  12872001  12876001  12876004  12878001  \\\n",
      "date                                                                     \n",
      "2000-02-18       542     647.0     595.0       636       671     658.0   \n",
      "2000-03-05       610     674.0     618.0       697       770     743.0   \n",
      "2000-03-21       620     682.0     627.0       678       768     731.0   \n",
      "2000-04-06       607     603.0     562.0       543       600     557.0   \n",
      "2000-04-22       581     592.0     524.0       514       565     549.0   \n",
      "...              ...       ...       ...       ...       ...       ...   \n",
      "2022-04-07       571     598.0     551.0       531       604     558.0   \n",
      "2022-04-23       654     661.0     589.0       531       490     484.0   \n",
      "2022-05-09       521     516.0     437.0       365       340     361.0   \n",
      "2022-05-25       497     436.0     407.0       377       365     252.0   \n",
      "2022-06-10       415     296.0     281.0       283       300     163.0   \n",
      "\n",
      "            12930001  \n",
      "date                  \n",
      "2000-02-18     188.0  \n",
      "2000-03-05     468.0  \n",
      "2000-03-21     407.0  \n",
      "2000-04-06     375.0  \n",
      "2000-04-22     376.0  \n",
      "...              ...  \n",
      "2022-04-07     361.0  \n",
      "2022-04-23     257.0  \n",
      "2022-05-09     260.0  \n",
      "2022-05-25      77.0  \n",
      "2022-06-10       NaN  \n",
      "\n",
      "[513 rows x 433 columns]\n"
     ]
    }
   ],
   "source": [
    "print(ndvi.observations)"
   ],
   "metadata": {
    "collapsed": false,
    "pycharm": {
     "name": "#%%\n"
    }
   }
  },
  {
   "cell_type": "code",
   "execution_count": 6,
   "outputs": [
    {
     "data": {
      "text/plain": "<Figure size 432x288 with 1 Axes>",
      "image/png": "[encoded data removed]"
     },
     "metadata": {
      "needs_background": "light"
     },
     "output_type": "display_data"
    },
    {
     "name": "stdout",
     "output_type": "stream",
     "text": [
      "None\n"
     ]
    }
   ],
   "source": [
    "print(ndvi.plot_valid_data_all())"
   ],
   "metadata": {
    "collapsed": false,
    "pycharm": {
     "name": "#%%\n"
    }
   }
  },
  {
   "cell_type": "code",
   "execution_count": 7,
   "outputs": [
    {
     "name": "stdout",
     "output_type": "stream",
     "text": [
      "['4323001', '4501001', '4503001', '4511002', '4512001', '4513001', '4514001', '4515002', '4520001', '4522002']\n"
     ]
    }
   ],
   "source": [
    "print(ndvi.catchment_names[80:90])"
   ],
   "metadata": {
    "collapsed": false,
    "pycharm": {
     "name": "#%%\n"
    }
   }
  },
  {
   "cell_type": "code",
   "execution_count": 8,
   "outputs": [
    {
     "name": "stdout",
     "output_type": "stream",
     "text": [
      "4323001    513\n",
      "4501001    408\n",
      "4503001    513\n",
      "4511002    451\n",
      "4512001    503\n",
      "4513001    512\n",
      "4514001    511\n",
      "4515002    513\n",
      "4520001    364\n",
      "4522002    513\n",
      "dtype: int64\n"
     ]
    }
   ],
   "source": [
    "print(ndvi.valid_data()[80:90])"
   ],
   "metadata": {
    "collapsed": false,
    "pycharm": {
     "name": "#%%\n"
    }
   }
  },
  {
   "cell_type": "code",
   "execution_count": 9,
   "outputs": [
    {
     "data": {
      "text/plain": "<Figure size 432x288 with 2 Axes>",
      "image/png": "[encoded data removed]"
     },
     "metadata": {
      "needs_background": "light"
     },
     "output_type": "display_data"
    },
    {
     "name": "stdout",
     "output_type": "stream",
     "text": [
      "None\n"
     ]
    }
   ],
   "source": [
    "print(ndvi.plot_valid_data_individual(88))"
   ],
   "metadata": {
    "collapsed": false,
    "pycharm": {
     "name": "#%%\n"
    }
   }
  },
  {
   "cell_type": "code",
   "execution_count": 10,
   "outputs": [
    {
     "data": {
      "text/plain": "<Figure size 432x288 with 2 Axes>",
      "image/png": "[encoded data removed]"
     },
     "metadata": {
      "needs_background": "light"
     },
     "output_type": "display_data"
    },
    {
     "name": "stdout",
     "output_type": "stream",
     "text": [
      "None\n"
     ]
    }
   ],
   "source": [
    "print(ndvi.plot_pixel_count(88))"
   ],
   "metadata": {
    "collapsed": false,
    "pycharm": {
     "name": "#%%\n"
    }
   }
  }
 ],
 "metadata": {
  "kernelspec": {
   "display_name": "Python 3",
   "language": "python",
   "name": "python3"
  },
  "language_info": {
   "codemirror_mode": {
    "name": "ipython",
    "version": 2
   },
   "file_extension": ".py",
   "mimetype": "text/x-python",
   "name": "python",
   "nbconvert_exporter": "python",
   "pygments_lexer": "ipython2",
   "version": "2.7.6"
  }
 },
 "nbformat": 4,
 "nbformat_minor": 0
}