{
 "cells": [
  {
   "cell_type": "code",
   "execution_count": 1,
   "metadata": {
    "collapsed": true
   },
   "outputs": [],
   "source": [
    "import hidrocl\n",
    "import hidrocl_paths as hcl"
   ]
  },
  {
   "cell_type": "code",
   "execution_count": 2,
   "outputs": [
    {
     "name": "stdout",
     "output_type": "stream",
     "text": [
      "Database found, using /private/nfs2/databases/forecasted/pp_f_gfs_pp_mean_b_none_d1_p0d.csv\n",
      "Database found, using /private/nfs2/databases/forecasted/pp_f_gfs_pp_mean_pc_p0d.csv\n",
      "Database found, using /private/nfs2/databases/forecasted/pp_f_gfs_pp_mean_b_none_d1_p1d.csv\n",
      "Database found, using /private/nfs2/databases/forecasted/pp_f_gfs_pp_mean_pc_p1d.csv\n",
      "Database found, using /private/nfs2/databases/forecasted/pp_f_gfs_pp_mean_b_none_d1_p2d.csv\n",
      "Database found, using /private/nfs2/databases/forecasted/pp_f_gfs_pp_mean_pc_p2d.csv\n",
      "Database found, using /private/nfs2/databases/forecasted/pp_f_gfs_pp_mean_b_none_d1_p3d.csv\n",
      "Database found, using /private/nfs2/databases/forecasted/pp_f_gfs_pp_mean_pc_p3d.csv\n",
      "Database found, using /private/nfs2/databases/forecasted/pp_f_gfs_pp_mean_b_none_d1_p4d.csv\n",
      "Database found, using /private/nfs2/databases/forecasted/pp_f_gfs_pp_mean_pc_p4d.csv\n"
     ]
    }
   ],
   "source": [
    "gfs_d0 = hidrocl.HidroCLVariable('test gfs día 0',\n",
    "                        hcl.pp_f_gfs_pp_mean_b_none_d1_p0d,\n",
    "                        hcl.pp_f_gfs_pp_mean_pc_p0d)\n",
    "gfs_d1 = hidrocl.HidroCLVariable('test gfs día 1',\n",
    "                        hcl.pp_f_gfs_pp_mean_b_none_d1_p1d,\n",
    "                        hcl.pp_f_gfs_pp_mean_pc_p1d)\n",
    "gfs_d2 = hidrocl.HidroCLVariable('test gfs día 2',\n",
    "                        hcl.pp_f_gfs_pp_mean_b_none_d1_p2d,\n",
    "                        hcl.pp_f_gfs_pp_mean_pc_p2d)\n",
    "gfs_d3 = hidrocl.HidroCLVariable('test gfs día 3',\n",
    "                        hcl.pp_f_gfs_pp_mean_b_none_d1_p3d,\n",
    "                        hcl.pp_f_gfs_pp_mean_pc_p3d)\n",
    "gfs_d4 = hidrocl.HidroCLVariable('test gfs día 4',\n",
    "                        hcl.pp_f_gfs_pp_mean_b_none_d1_p4d,\n",
    "                        hcl.pp_f_gfs_pp_mean_pc_p4d)"
   ],
   "metadata": {
    "collapsed": false
   }
  },
  {
   "cell_type": "code",
   "execution_count": null,
   "outputs": [],
   "source": [
    "# import geopandas as gpd"
   ],
   "metadata": {
    "collapsed": false
   }
  },
  {
   "cell_type": "code",
   "execution_count": null,
   "outputs": [],
   "source": [
    "# v = gpd.read_file(hcl.hidrocl_wgs84)\n",
    "# catchment_names = v.gauge_id.tolist()"
   ],
   "metadata": {
    "collapsed": false
   }
  },
  {
   "cell_type": "code",
   "execution_count": null,
   "outputs": [],
   "source": [
    "# gfs_d0.catchment_names = catchment_names\n",
    "# gfs_d1.catchment_names = catchment_names\n",
    "# gfs_d2.catchment_names = catchment_names\n",
    "# gfs_d3.catchment_names = catchment_names\n",
    "# gfs_d4.catchment_names = catchment_names"
   ],
   "metadata": {
    "collapsed": false
   }
  },
  {
   "cell_type": "code",
   "execution_count": null,
   "outputs": [],
   "source": [
    "# gfs_d0.checkdatabase()\n",
    "# gfs_d0.checkpcdatabase()\n",
    "# gfs_d1.checkdatabase()\n",
    "# gfs_d1.checkpcdatabase()\n",
    "# gfs_d2.checkdatabase()\n",
    "# gfs_d2.checkpcdatabase()\n",
    "# gfs_d3.checkdatabase()\n",
    "# gfs_d3.checkpcdatabase()\n",
    "# gfs_d4.checkdatabase()\n",
    "# gfs_d4.checkpcdatabase()"
   ],
   "metadata": {
    "collapsed": false
   }
  },
  {
   "cell_type": "code",
   "execution_count": 3,
   "outputs": [],
   "source": [
    "test = hidrocl.products.Gfs(db0 = gfs_d0,\n",
    "                            db1 = gfs_d1,\n",
    "                            db2 = gfs_d2,\n",
    "                            db3 = gfs_d3,\n",
    "                            db4 = gfs_d4,\n",
    "                            db_log=hcl.log_pp_f_gfs_pp_mean_log,\n",
    "                            variable='prate',\n",
    "                            product_path=hcl.gfs,\n",
    "                            vectorpath=hcl.hidrocl_wgs84)"
   ],
   "metadata": {
    "collapsed": false
   }
  },
  {
   "cell_type": "code",
   "execution_count": null,
   "outputs": [],
   "source": [
    "# ids = test.product_ids"
   ],
   "metadata": {
    "collapsed": false
   }
  },
  {
   "cell_type": "code",
   "execution_count": null,
   "outputs": [],
   "source": [
    "# test.productpath"
   ],
   "metadata": {
    "collapsed": false
   }
  },
  {
   "cell_type": "code",
   "execution_count": 4,
   "outputs": [
    {
     "name": "stdout",
     "output_type": "stream",
     "text": [
      "Processing scene 2006111300 for gfs\n",
      "Error in scene 2006111300\n",
      "Processing scene 2006111400 for gfs\n"
     ]
    },
    {
     "name": "stderr",
     "output_type": "stream",
     "text": [
      "\n",
      "Execution halted\n"
     ]
    },
    {
     "ename": "KeyboardInterrupt",
     "evalue": "",
     "output_type": "error",
     "traceback": [
      "\u001B[0;31m---------------------------------------------------------------------------\u001B[0m",
      "\u001B[0;31mKeyboardInterrupt\u001B[0m                         Traceback (most recent call last)",
      "Input \u001B[0;32mIn [4]\u001B[0m, in \u001B[0;36m<cell line: 1>\u001B[0;34m()\u001B[0m\n\u001B[0;32m----> 1\u001B[0m \u001B[43mtest\u001B[49m\u001B[38;5;241;43m.\u001B[39;49m\u001B[43mrun_extraction\u001B[49m\u001B[43m(\u001B[49m\u001B[43m)\u001B[49m\n",
      "File \u001B[0;32m~/Documents/GitHub/HidroCL-OOP/hidrocl/products/__init__.py:2184\u001B[0m, in \u001B[0;36mGfs.run_extraction\u001B[0;34m(self, limit)\u001B[0m\n\u001B[1;32m   2181\u001B[0m \u001B[38;5;28;01mif\u001B[39;00m scene \u001B[38;5;129;01mnot\u001B[39;00m \u001B[38;5;129;01min\u001B[39;00m \u001B[38;5;28mself\u001B[39m\u001B[38;5;241m.\u001B[39mdb4\u001B[38;5;241m.\u001B[39mindatabase:\n\u001B[1;32m   2182\u001B[0m     days\u001B[38;5;241m.\u001B[39mappend(\u001B[38;5;241m4\u001B[39m)\n\u001B[0;32m-> 2184\u001B[0m \u001B[43me\u001B[49m\u001B[38;5;241;43m.\u001B[39;49m\u001B[43mzonal_stats\u001B[49m\u001B[43m(\u001B[49m\u001B[43mscene\u001B[49m\u001B[43m,\u001B[49m\u001B[43m \u001B[49m\u001B[43mscenes_path\u001B[49m\u001B[43m,\u001B[49m\n\u001B[1;32m   2185\u001B[0m \u001B[43m              \u001B[49m\u001B[43mtemp_dir\u001B[49m\u001B[43m,\u001B[49m\u001B[43m \u001B[49m\u001B[38;5;124;43m'\u001B[39;49m\u001B[38;5;124;43mgfs\u001B[39;49m\u001B[38;5;124;43m'\u001B[39;49m\u001B[43m,\u001B[49m\n\u001B[1;32m   2186\u001B[0m \u001B[43m              \u001B[49m\u001B[38;5;28;43mself\u001B[39;49m\u001B[38;5;241;43m.\u001B[39;49m\u001B[43mdb0\u001B[49m\u001B[38;5;241;43m.\u001B[39;49m\u001B[43mcatchment_names\u001B[49m\u001B[43m,\u001B[49m\u001B[43m \u001B[49m\u001B[38;5;28;43mself\u001B[39;49m\u001B[38;5;241;43m.\u001B[39;49m\u001B[43mdb_log\u001B[49m\u001B[43m,\u001B[49m\n\u001B[1;32m   2187\u001B[0m \u001B[43m              \u001B[49m\u001B[43mdatabase\u001B[49m\u001B[38;5;241;43m=\u001B[39;49m\u001B[38;5;28;43;01mNone\u001B[39;49;00m\u001B[43m,\u001B[49m\n\u001B[1;32m   2188\u001B[0m \u001B[43m              \u001B[49m\u001B[43mdatabases\u001B[49m\u001B[38;5;241;43m=\u001B[39;49m\u001B[43m[\u001B[49m\u001B[38;5;28;43mself\u001B[39;49m\u001B[38;5;241;43m.\u001B[39;49m\u001B[43mdb0\u001B[49m\u001B[38;5;241;43m.\u001B[39;49m\u001B[43mdatabase\u001B[49m\u001B[43m,\u001B[49m\n\u001B[1;32m   2189\u001B[0m \u001B[43m                         \u001B[49m\u001B[38;5;28;43mself\u001B[39;49m\u001B[38;5;241;43m.\u001B[39;49m\u001B[43mdb1\u001B[49m\u001B[38;5;241;43m.\u001B[39;49m\u001B[43mdatabase\u001B[49m\u001B[43m,\u001B[49m\n\u001B[1;32m   2190\u001B[0m \u001B[43m                         \u001B[49m\u001B[38;5;28;43mself\u001B[39;49m\u001B[38;5;241;43m.\u001B[39;49m\u001B[43mdb2\u001B[49m\u001B[38;5;241;43m.\u001B[39;49m\u001B[43mdatabase\u001B[49m\u001B[43m,\u001B[49m\n\u001B[1;32m   2191\u001B[0m \u001B[43m                         \u001B[49m\u001B[38;5;28;43mself\u001B[39;49m\u001B[38;5;241;43m.\u001B[39;49m\u001B[43mdb3\u001B[49m\u001B[38;5;241;43m.\u001B[39;49m\u001B[43mdatabase\u001B[49m\u001B[43m,\u001B[49m\n\u001B[1;32m   2192\u001B[0m \u001B[43m                         \u001B[49m\u001B[38;5;28;43mself\u001B[39;49m\u001B[38;5;241;43m.\u001B[39;49m\u001B[43mdb4\u001B[49m\u001B[38;5;241;43m.\u001B[39;49m\u001B[43mdatabase\u001B[49m\u001B[43m]\u001B[49m\u001B[43m,\u001B[49m\n\u001B[1;32m   2193\u001B[0m \u001B[43m              \u001B[49m\u001B[43mpcdatabase\u001B[49m\u001B[38;5;241;43m=\u001B[39;49m\u001B[38;5;28;43;01mNone\u001B[39;49;00m\u001B[43m,\u001B[49m\n\u001B[1;32m   2194\u001B[0m \u001B[43m              \u001B[49m\u001B[43mpcdatabases\u001B[49m\u001B[38;5;241;43m=\u001B[39;49m\u001B[43m[\u001B[49m\u001B[38;5;28;43mself\u001B[39;49m\u001B[38;5;241;43m.\u001B[39;49m\u001B[43mdb0\u001B[49m\u001B[38;5;241;43m.\u001B[39;49m\u001B[43mpcdatabase\u001B[49m\u001B[43m,\u001B[49m\n\u001B[1;32m   2195\u001B[0m \u001B[43m                           \u001B[49m\u001B[38;5;28;43mself\u001B[39;49m\u001B[38;5;241;43m.\u001B[39;49m\u001B[43mdb1\u001B[49m\u001B[38;5;241;43m.\u001B[39;49m\u001B[43mpcdatabase\u001B[49m\u001B[43m,\u001B[49m\n\u001B[1;32m   2196\u001B[0m \u001B[43m                           \u001B[49m\u001B[38;5;28;43mself\u001B[39;49m\u001B[38;5;241;43m.\u001B[39;49m\u001B[43mdb2\u001B[49m\u001B[38;5;241;43m.\u001B[39;49m\u001B[43mpcdatabase\u001B[49m\u001B[43m,\u001B[49m\n\u001B[1;32m   2197\u001B[0m \u001B[43m                           \u001B[49m\u001B[38;5;28;43mself\u001B[39;49m\u001B[38;5;241;43m.\u001B[39;49m\u001B[43mdb3\u001B[49m\u001B[38;5;241;43m.\u001B[39;49m\u001B[43mpcdatabase\u001B[49m\u001B[43m,\u001B[49m\n\u001B[1;32m   2198\u001B[0m \u001B[43m                           \u001B[49m\u001B[38;5;28;43mself\u001B[39;49m\u001B[38;5;241;43m.\u001B[39;49m\u001B[43mdb4\u001B[49m\u001B[38;5;241;43m.\u001B[39;49m\u001B[43mpcdatabase\u001B[49m\u001B[43m]\u001B[49m\u001B[43m,\u001B[49m\n\u001B[1;32m   2199\u001B[0m \u001B[43m              \u001B[49m\u001B[43mvector_path\u001B[49m\u001B[38;5;241;43m=\u001B[39;49m\u001B[38;5;28;43mself\u001B[39;49m\u001B[38;5;241;43m.\u001B[39;49m\u001B[43mvectorpath\u001B[49m\u001B[43m,\u001B[49m\n\u001B[1;32m   2200\u001B[0m \u001B[43m              \u001B[49m\u001B[43mlayer\u001B[49m\u001B[38;5;241;43m=\u001B[39;49m\u001B[38;5;28;43mself\u001B[39;49m\u001B[38;5;241;43m.\u001B[39;49m\u001B[43mvariable\u001B[49m\u001B[43m,\u001B[49m\n\u001B[1;32m   2201\u001B[0m \u001B[43m              \u001B[49m\u001B[43maggregation\u001B[49m\u001B[38;5;241;43m=\u001B[39;49m\u001B[38;5;124;43m\"\u001B[39;49m\u001B[38;5;124;43msum\u001B[39;49m\u001B[38;5;124;43m\"\u001B[39;49m\u001B[43m,\u001B[49m\n\u001B[1;32m   2202\u001B[0m \u001B[43m              \u001B[49m\u001B[43mdays\u001B[49m\u001B[38;5;241;43m=\u001B[39;49m\u001B[43mdays\u001B[49m\u001B[43m)\u001B[49m\n",
      "File \u001B[0;32m~/Documents/GitHub/HidroCL-OOP/hidrocl/products/extractions.py:581\u001B[0m, in \u001B[0;36mzonal_stats\u001B[0;34m(scene, scenes_path, tempfolder, name, catchment_names, log_file, **kwargs)\u001B[0m\n\u001B[1;32m    556\u001B[0m \u001B[38;5;66;03m# result_file = os.path.join(tempfolder, name + \"_\" + scene + \".csv\")\u001B[39;00m\n\u001B[1;32m    557\u001B[0m mos\u001B[38;5;241m.\u001B[39mrio\u001B[38;5;241m.\u001B[39mto_raster(temporal_raster, compress\u001B[38;5;241m=\u001B[39m\u001B[38;5;124m\"\u001B[39m\u001B[38;5;124mLZW\u001B[39m\u001B[38;5;124m\"\u001B[39m)\n\u001B[1;32m    558\u001B[0m \u001B[38;5;28;01mmatch\u001B[39;00m name:\n\u001B[1;32m    559\u001B[0m     \u001B[38;5;28;01mcase\u001B[39;00m \u001B[38;5;124m'\u001B[39m\u001B[38;5;124msnow\u001B[39m\u001B[38;5;124m'\u001B[39m:\n\u001B[1;32m    560\u001B[0m         subprocess\u001B[38;5;241m.\u001B[39mcall([rscript,\n\u001B[1;32m    561\u001B[0m                          \u001B[38;5;124m\"\u001B[39m\u001B[38;5;124m--vanilla\u001B[39m\u001B[38;5;124m\"\u001B[39m,\n\u001B[1;32m    562\u001B[0m                          \u001B[38;5;124m\"\u001B[39m\u001B[38;5;124m./hidrocl/products/Rfiles/WeightedPercExtraction.R\u001B[39m\u001B[38;5;124m\"\u001B[39m,\n\u001B[1;32m    563\u001B[0m                          kwargs\u001B[38;5;241m.\u001B[39mget(\u001B[38;5;124m\"\u001B[39m\u001B[38;5;124mnorth_vector_path\u001B[39m\u001B[38;5;124m\"\u001B[39m),\n\u001B[1;32m    564\u001B[0m                          temporal_raster,\n\u001B[1;32m    565\u001B[0m                          result_file])\n\u001B[1;32m    566\u001B[0m \n\u001B[1;32m    567\u001B[0m         write_line(kwargs\u001B[38;5;241m.\u001B[39mget(\u001B[38;5;124m\"\u001B[39m\u001B[38;5;124mnorth_database\u001B[39m\u001B[38;5;124m\"\u001B[39m), result_file, catchment_names, scene, file_date, ncol\u001B[38;5;241m=\u001B[39m\u001B[38;5;241m1\u001B[39m)\n\u001B[1;32m    568\u001B[0m         write_line(kwargs\u001B[38;5;241m.\u001B[39mget(\u001B[38;5;124m\"\u001B[39m\u001B[38;5;124mnorth_pcdatabase\u001B[39m\u001B[38;5;124m\"\u001B[39m), result_file, catchment_names, scene, file_date, ncol\u001B[38;5;241m=\u001B[39m\u001B[38;5;241m2\u001B[39m)\n\u001B[1;32m    569\u001B[0m \n\u001B[1;32m    570\u001B[0m         subprocess\u001B[38;5;241m.\u001B[39mcall([rscript,\n\u001B[1;32m    571\u001B[0m                          \u001B[38;5;124m\"\u001B[39m\u001B[38;5;124m--vanilla\u001B[39m\u001B[38;5;124m\"\u001B[39m,\n\u001B[1;32m    572\u001B[0m                          \u001B[38;5;124m\"\u001B[39m\u001B[38;5;124m./hidrocl/products/Rfiles/WeightedPercExtraction.R\u001B[39m\u001B[38;5;124m\"\u001B[39m,\n\u001B[1;32m    573\u001B[0m                          kwargs\u001B[38;5;241m.\u001B[39mget(\u001B[38;5;124m\"\u001B[39m\u001B[38;5;124msouth_vector_path\u001B[39m\u001B[38;5;124m\"\u001B[39m),\n\u001B[1;32m    574\u001B[0m                          temporal_raster,\n\u001B[1;32m    575\u001B[0m                          result_file])\n\u001B[1;32m    576\u001B[0m \n\u001B[1;32m    577\u001B[0m         write_line(kwargs\u001B[38;5;241m.\u001B[39mget(\u001B[38;5;124m\"\u001B[39m\u001B[38;5;124msouth_database\u001B[39m\u001B[38;5;124m\"\u001B[39m), result_file, catchment_names, scene, file_date, ncol\u001B[38;5;241m=\u001B[39m\u001B[38;5;241m1\u001B[39m)\n\u001B[1;32m    578\u001B[0m         write_line(kwargs\u001B[38;5;241m.\u001B[39mget(\u001B[38;5;124m\"\u001B[39m\u001B[38;5;124msouth_pcdatabase\u001B[39m\u001B[38;5;124m\"\u001B[39m), result_file, catchment_names, scene, file_date, ncol\u001B[38;5;241m=\u001B[39m\u001B[38;5;241m2\u001B[39m)\n\u001B[1;32m    579\u001B[0m \n\u001B[1;32m    580\u001B[0m     \u001B[38;5;28;01mcase\u001B[39;00m \u001B[38;5;124m'\u001B[39m\u001B[38;5;124mgfs\u001B[39m\u001B[38;5;124m'\u001B[39m:\n\u001B[0;32m--> 581\u001B[0m         \u001B[43msubprocess\u001B[49m\u001B[38;5;241;43m.\u001B[39;49m\u001B[43mcall\u001B[49m\u001B[43m(\u001B[49m\u001B[43m[\u001B[49m\u001B[43mrscript\u001B[49m\u001B[43m,\u001B[49m\n\u001B[1;32m    582\u001B[0m \u001B[43m                         \u001B[49m\u001B[38;5;124;43m\"\u001B[39;49m\u001B[38;5;124;43m--vanilla\u001B[39;49m\u001B[38;5;124;43m\"\u001B[39;49m\u001B[43m,\u001B[49m\n\u001B[1;32m    583\u001B[0m \u001B[43m                         \u001B[49m\u001B[38;5;124;43m\"\u001B[39;49m\u001B[38;5;124;43m./hidrocl/products/Rfiles/WeightedMeanExtractionGFS.R\u001B[39;49m\u001B[38;5;124;43m\"\u001B[39;49m\u001B[43m,\u001B[49m\n\u001B[1;32m    584\u001B[0m \u001B[43m                         \u001B[49m\u001B[43mkwargs\u001B[49m\u001B[38;5;241;43m.\u001B[39;49m\u001B[43mget\u001B[49m\u001B[43m(\u001B[49m\u001B[38;5;124;43m\"\u001B[39;49m\u001B[38;5;124;43mvector_path\u001B[39;49m\u001B[38;5;124;43m\"\u001B[39;49m\u001B[43m)\u001B[49m\u001B[43m,\u001B[49m\n\u001B[1;32m    585\u001B[0m \u001B[43m                         \u001B[49m\u001B[43mtemporal_raster\u001B[49m\u001B[43m,\u001B[49m\n\u001B[1;32m    586\u001B[0m \u001B[43m                         \u001B[49m\u001B[43mresult_file\u001B[49m\u001B[43m]\u001B[49m\u001B[43m)\u001B[49m\n\u001B[1;32m    587\u001B[0m \n\u001B[1;32m    588\u001B[0m \n\u001B[1;32m    589\u001B[0m         days \u001B[38;5;241m=\u001B[39m kwargs\u001B[38;5;241m.\u001B[39mget(\u001B[38;5;124m\"\u001B[39m\u001B[38;5;124mdays\u001B[39m\u001B[38;5;124m\"\u001B[39m)\n\u001B[1;32m    590\u001B[0m \n\u001B[1;32m    591\u001B[0m         \u001B[38;5;28;01mif\u001B[39;00m \u001B[38;5;241m0\u001B[39m \u001B[38;5;129;01min\u001B[39;00m days:\n\u001B[1;32m    592\u001B[0m             write_line(kwargs\u001B[38;5;241m.\u001B[39mget(\u001B[38;5;124m\"\u001B[39m\u001B[38;5;124mdatabases\u001B[39m\u001B[38;5;124m\"\u001B[39m)[\u001B[38;5;241m0\u001B[39m], result_file, catchment_names, scene,\n\u001B[1;32m    593\u001B[0m                        file_date, ncol\u001B[38;5;241m=\u001B[39m(days\u001B[38;5;241m.\u001B[39mindex(\u001B[38;5;241m0\u001B[39m)\u001B[38;5;241m+\u001B[39m\u001B[38;5;241m1\u001B[39m))\n\u001B[1;32m    594\u001B[0m             write_line(kwargs\u001B[38;5;241m.\u001B[39mget(\u001B[38;5;124m\"\u001B[39m\u001B[38;5;124mpcdatabases\u001B[39m\u001B[38;5;124m\"\u001B[39m)[\u001B[38;5;241m0\u001B[39m], result_file, catchment_names, scene,\n\u001B[1;32m    595\u001B[0m                        file_date, ncol\u001B[38;5;241m=\u001B[39m(days\u001B[38;5;241m.\u001B[39mindex(\u001B[38;5;241m0\u001B[39m)\u001B[38;5;241m+\u001B[39m\u001B[38;5;241m1\u001B[39m)\u001B[38;5;241m+\u001B[39m\u001B[38;5;28mlen\u001B[39m(days))\n\u001B[1;32m    596\u001B[0m         \u001B[38;5;28;01mif\u001B[39;00m \u001B[38;5;241m1\u001B[39m \u001B[38;5;129;01min\u001B[39;00m days:\n\u001B[1;32m    597\u001B[0m             write_line(kwargs\u001B[38;5;241m.\u001B[39mget(\u001B[38;5;124m\"\u001B[39m\u001B[38;5;124mdatabases\u001B[39m\u001B[38;5;124m\"\u001B[39m)[\u001B[38;5;241m1\u001B[39m], result_file, catchment_names, scene,\n\u001B[1;32m    598\u001B[0m                        file_date, ncol\u001B[38;5;241m=\u001B[39m(days\u001B[38;5;241m.\u001B[39mindex(\u001B[38;5;241m1\u001B[39m)\u001B[38;5;241m+\u001B[39m\u001B[38;5;241m1\u001B[39m))\n\u001B[1;32m    599\u001B[0m             write_line(kwargs\u001B[38;5;241m.\u001B[39mget(\u001B[38;5;124m\"\u001B[39m\u001B[38;5;124mpcdatabases\u001B[39m\u001B[38;5;124m\"\u001B[39m)[\u001B[38;5;241m1\u001B[39m], result_file, catchment_names, scene,\n\u001B[1;32m    600\u001B[0m                        file_date, ncol\u001B[38;5;241m=\u001B[39m(days\u001B[38;5;241m.\u001B[39mindex(\u001B[38;5;241m1\u001B[39m)\u001B[38;5;241m+\u001B[39m\u001B[38;5;241m1\u001B[39m)\u001B[38;5;241m+\u001B[39m\u001B[38;5;28mlen\u001B[39m(days))\n\u001B[1;32m    601\u001B[0m         \u001B[38;5;28;01mif\u001B[39;00m \u001B[38;5;241m2\u001B[39m \u001B[38;5;129;01min\u001B[39;00m days:\n\u001B[1;32m    602\u001B[0m             write_line(kwargs\u001B[38;5;241m.\u001B[39mget(\u001B[38;5;124m\"\u001B[39m\u001B[38;5;124mdatabases\u001B[39m\u001B[38;5;124m\"\u001B[39m)[\u001B[38;5;241m2\u001B[39m], result_file, catchment_names, scene,\n\u001B[1;32m    603\u001B[0m                        file_date, ncol\u001B[38;5;241m=\u001B[39m(days\u001B[38;5;241m.\u001B[39mindex(\u001B[38;5;241m2\u001B[39m)\u001B[38;5;241m+\u001B[39m\u001B[38;5;241m1\u001B[39m))\n\u001B[1;32m    604\u001B[0m             write_line(kwargs\u001B[38;5;241m.\u001B[39mget(\u001B[38;5;124m\"\u001B[39m\u001B[38;5;124mpcdatabases\u001B[39m\u001B[38;5;124m\"\u001B[39m)[\u001B[38;5;241m2\u001B[39m], result_file, catchment_names, scene,\n\u001B[1;32m    605\u001B[0m                        file_date, ncol\u001B[38;5;241m=\u001B[39m(days\u001B[38;5;241m.\u001B[39mindex(\u001B[38;5;241m2\u001B[39m)\u001B[38;5;241m+\u001B[39m\u001B[38;5;241m1\u001B[39m)\u001B[38;5;241m+\u001B[39m\u001B[38;5;28mlen\u001B[39m(days))\n\u001B[1;32m    606\u001B[0m         \u001B[38;5;28;01mif\u001B[39;00m \u001B[38;5;241m3\u001B[39m \u001B[38;5;129;01min\u001B[39;00m days:\n\u001B[1;32m    607\u001B[0m             write_line(kwargs\u001B[38;5;241m.\u001B[39mget(\u001B[38;5;124m\"\u001B[39m\u001B[38;5;124mdatabases\u001B[39m\u001B[38;5;124m\"\u001B[39m)[\u001B[38;5;241m3\u001B[39m], result_file, catchment_names, scene,\n\u001B[1;32m    608\u001B[0m                        file_date, ncol\u001B[38;5;241m=\u001B[39m(days\u001B[38;5;241m.\u001B[39mindex(\u001B[38;5;241m3\u001B[39m)\u001B[38;5;241m+\u001B[39m\u001B[38;5;241m1\u001B[39m))\n\u001B[1;32m    609\u001B[0m             write_line(kwargs\u001B[38;5;241m.\u001B[39mget(\u001B[38;5;124m\"\u001B[39m\u001B[38;5;124mpcdatabases\u001B[39m\u001B[38;5;124m\"\u001B[39m)[\u001B[38;5;241m3\u001B[39m], result_file, catchment_names, scene,\n\u001B[1;32m    610\u001B[0m                        file_date, ncol\u001B[38;5;241m=\u001B[39m(days\u001B[38;5;241m.\u001B[39mindex(\u001B[38;5;241m3\u001B[39m)\u001B[38;5;241m+\u001B[39m\u001B[38;5;241m1\u001B[39m)\u001B[38;5;241m+\u001B[39m\u001B[38;5;28mlen\u001B[39m(days))\n\u001B[1;32m    611\u001B[0m         \u001B[38;5;28;01mif\u001B[39;00m \u001B[38;5;241m4\u001B[39m \u001B[38;5;129;01min\u001B[39;00m days:\n\u001B[1;32m    612\u001B[0m             write_line(kwargs\u001B[38;5;241m.\u001B[39mget(\u001B[38;5;124m\"\u001B[39m\u001B[38;5;124mdatabases\u001B[39m\u001B[38;5;124m\"\u001B[39m)[\u001B[38;5;241m4\u001B[39m], result_file, catchment_names, scene,\n\u001B[1;32m    613\u001B[0m                        file_date, ncol\u001B[38;5;241m=\u001B[39m(days\u001B[38;5;241m.\u001B[39mindex(\u001B[38;5;241m4\u001B[39m)\u001B[38;5;241m+\u001B[39m\u001B[38;5;241m1\u001B[39m))\n\u001B[1;32m    614\u001B[0m             write_line(kwargs\u001B[38;5;241m.\u001B[39mget(\u001B[38;5;124m\"\u001B[39m\u001B[38;5;124mpcdatabases\u001B[39m\u001B[38;5;124m\"\u001B[39m)[\u001B[38;5;241m4\u001B[39m], result_file, catchment_names, scene,\n\u001B[1;32m    615\u001B[0m                        file_date, ncol\u001B[38;5;241m=\u001B[39m(days\u001B[38;5;241m.\u001B[39mindex(\u001B[38;5;241m4\u001B[39m)\u001B[38;5;241m+\u001B[39m\u001B[38;5;241m1\u001B[39m)\u001B[38;5;241m+\u001B[39m\u001B[38;5;28mlen\u001B[39m(days))\n\u001B[1;32m    616\u001B[0m \n\u001B[1;32m    617\u001B[0m     \u001B[38;5;28;01mcase\u001B[39;00m \u001B[38;5;28;01m_\u001B[39;00m:\n\u001B[1;32m    618\u001B[0m         subprocess\u001B[38;5;241m.\u001B[39mcall([rscript,\n\u001B[1;32m    619\u001B[0m                          \u001B[38;5;124m\"\u001B[39m\u001B[38;5;124m--vanilla\u001B[39m\u001B[38;5;124m\"\u001B[39m,\n\u001B[1;32m    620\u001B[0m                          \u001B[38;5;124m\"\u001B[39m\u001B[38;5;124m./hidrocl/products/Rfiles/WeightedMeanExtraction.R\u001B[39m\u001B[38;5;124m\"\u001B[39m,\n\u001B[1;32m    621\u001B[0m                          kwargs\u001B[38;5;241m.\u001B[39mget(\u001B[38;5;124m\"\u001B[39m\u001B[38;5;124mvector_path\u001B[39m\u001B[38;5;124m\"\u001B[39m),\n\u001B[1;32m    622\u001B[0m                          temporal_raster,\n\u001B[1;32m    623\u001B[0m                          result_file])\n\u001B[1;32m    624\u001B[0m \n\u001B[1;32m    625\u001B[0m         write_line(kwargs\u001B[38;5;241m.\u001B[39mget(\u001B[38;5;124m\"\u001B[39m\u001B[38;5;124mdatabase\u001B[39m\u001B[38;5;124m\"\u001B[39m), result_file, catchment_names, scene, file_date, ncol\u001B[38;5;241m=\u001B[39m\u001B[38;5;241m1\u001B[39m)\n\u001B[1;32m    626\u001B[0m         write_line(kwargs\u001B[38;5;241m.\u001B[39mget(\u001B[38;5;124m\"\u001B[39m\u001B[38;5;124mpcdatabase\u001B[39m\u001B[38;5;124m\"\u001B[39m), result_file, catchment_names, scene, file_date, ncol\u001B[38;5;241m=\u001B[39m\u001B[38;5;241m2\u001B[39m)\n\u001B[1;32m    628\u001B[0m end \u001B[38;5;241m=\u001B[39m time\u001B[38;5;241m.\u001B[39mtime()\n\u001B[1;32m    629\u001B[0m time_dif \u001B[38;5;241m=\u001B[39m \u001B[38;5;28mstr\u001B[39m(\u001B[38;5;28mround\u001B[39m(end \u001B[38;5;241m-\u001B[39m start))\n",
      "File \u001B[0;32m~/miniforge3/envs/hidrocl/lib/python3.10/subprocess.py:347\u001B[0m, in \u001B[0;36mcall\u001B[0;34m(timeout, *popenargs, **kwargs)\u001B[0m\n\u001B[1;32m    345\u001B[0m \u001B[38;5;28;01mwith\u001B[39;00m Popen(\u001B[38;5;241m*\u001B[39mpopenargs, \u001B[38;5;241m*\u001B[39m\u001B[38;5;241m*\u001B[39mkwargs) \u001B[38;5;28;01mas\u001B[39;00m p:\n\u001B[1;32m    346\u001B[0m     \u001B[38;5;28;01mtry\u001B[39;00m:\n\u001B[0;32m--> 347\u001B[0m         \u001B[38;5;28;01mreturn\u001B[39;00m \u001B[43mp\u001B[49m\u001B[38;5;241;43m.\u001B[39;49m\u001B[43mwait\u001B[49m\u001B[43m(\u001B[49m\u001B[43mtimeout\u001B[49m\u001B[38;5;241;43m=\u001B[39;49m\u001B[43mtimeout\u001B[49m\u001B[43m)\u001B[49m\n\u001B[1;32m    348\u001B[0m     \u001B[38;5;28;01mexcept\u001B[39;00m:  \u001B[38;5;66;03m# Including KeyboardInterrupt, wait handled that.\u001B[39;00m\n\u001B[1;32m    349\u001B[0m         p\u001B[38;5;241m.\u001B[39mkill()\n",
      "File \u001B[0;32m~/miniforge3/envs/hidrocl/lib/python3.10/subprocess.py:1207\u001B[0m, in \u001B[0;36mPopen.wait\u001B[0;34m(self, timeout)\u001B[0m\n\u001B[1;32m   1205\u001B[0m     endtime \u001B[38;5;241m=\u001B[39m _time() \u001B[38;5;241m+\u001B[39m timeout\n\u001B[1;32m   1206\u001B[0m \u001B[38;5;28;01mtry\u001B[39;00m:\n\u001B[0;32m-> 1207\u001B[0m     \u001B[38;5;28;01mreturn\u001B[39;00m \u001B[38;5;28;43mself\u001B[39;49m\u001B[38;5;241;43m.\u001B[39;49m\u001B[43m_wait\u001B[49m\u001B[43m(\u001B[49m\u001B[43mtimeout\u001B[49m\u001B[38;5;241;43m=\u001B[39;49m\u001B[43mtimeout\u001B[49m\u001B[43m)\u001B[49m\n\u001B[1;32m   1208\u001B[0m \u001B[38;5;28;01mexcept\u001B[39;00m \u001B[38;5;167;01mKeyboardInterrupt\u001B[39;00m:\n\u001B[1;32m   1209\u001B[0m     \u001B[38;5;66;03m# https://bugs.python.org/issue25942\u001B[39;00m\n\u001B[1;32m   1210\u001B[0m     \u001B[38;5;66;03m# The first keyboard interrupt waits briefly for the child to\u001B[39;00m\n\u001B[1;32m   1211\u001B[0m     \u001B[38;5;66;03m# exit under the common assumption that it also received the ^C\u001B[39;00m\n\u001B[1;32m   1212\u001B[0m     \u001B[38;5;66;03m# generated SIGINT and will exit rapidly.\u001B[39;00m\n\u001B[1;32m   1213\u001B[0m     \u001B[38;5;28;01mif\u001B[39;00m timeout \u001B[38;5;129;01mis\u001B[39;00m \u001B[38;5;129;01mnot\u001B[39;00m \u001B[38;5;28;01mNone\u001B[39;00m:\n",
      "File \u001B[0;32m~/miniforge3/envs/hidrocl/lib/python3.10/subprocess.py:1941\u001B[0m, in \u001B[0;36mPopen._wait\u001B[0;34m(self, timeout)\u001B[0m\n\u001B[1;32m   1939\u001B[0m \u001B[38;5;28;01mif\u001B[39;00m \u001B[38;5;28mself\u001B[39m\u001B[38;5;241m.\u001B[39mreturncode \u001B[38;5;129;01mis\u001B[39;00m \u001B[38;5;129;01mnot\u001B[39;00m \u001B[38;5;28;01mNone\u001B[39;00m:\n\u001B[1;32m   1940\u001B[0m     \u001B[38;5;28;01mbreak\u001B[39;00m  \u001B[38;5;66;03m# Another thread waited.\u001B[39;00m\n\u001B[0;32m-> 1941\u001B[0m (pid, sts) \u001B[38;5;241m=\u001B[39m \u001B[38;5;28;43mself\u001B[39;49m\u001B[38;5;241;43m.\u001B[39;49m\u001B[43m_try_wait\u001B[49m\u001B[43m(\u001B[49m\u001B[38;5;241;43m0\u001B[39;49m\u001B[43m)\u001B[49m\n\u001B[1;32m   1942\u001B[0m \u001B[38;5;66;03m# Check the pid and loop as waitpid has been known to\u001B[39;00m\n\u001B[1;32m   1943\u001B[0m \u001B[38;5;66;03m# return 0 even without WNOHANG in odd situations.\u001B[39;00m\n\u001B[1;32m   1944\u001B[0m \u001B[38;5;66;03m# http://bugs.python.org/issue14396.\u001B[39;00m\n\u001B[1;32m   1945\u001B[0m \u001B[38;5;28;01mif\u001B[39;00m pid \u001B[38;5;241m==\u001B[39m \u001B[38;5;28mself\u001B[39m\u001B[38;5;241m.\u001B[39mpid:\n",
      "File \u001B[0;32m~/miniforge3/envs/hidrocl/lib/python3.10/subprocess.py:1899\u001B[0m, in \u001B[0;36mPopen._try_wait\u001B[0;34m(self, wait_flags)\u001B[0m\n\u001B[1;32m   1897\u001B[0m \u001B[38;5;124;03m\"\"\"All callers to this function MUST hold self._waitpid_lock.\"\"\"\u001B[39;00m\n\u001B[1;32m   1898\u001B[0m \u001B[38;5;28;01mtry\u001B[39;00m:\n\u001B[0;32m-> 1899\u001B[0m     (pid, sts) \u001B[38;5;241m=\u001B[39m \u001B[43mos\u001B[49m\u001B[38;5;241;43m.\u001B[39;49m\u001B[43mwaitpid\u001B[49m\u001B[43m(\u001B[49m\u001B[38;5;28;43mself\u001B[39;49m\u001B[38;5;241;43m.\u001B[39;49m\u001B[43mpid\u001B[49m\u001B[43m,\u001B[49m\u001B[43m \u001B[49m\u001B[43mwait_flags\u001B[49m\u001B[43m)\u001B[49m\n\u001B[1;32m   1900\u001B[0m \u001B[38;5;28;01mexcept\u001B[39;00m \u001B[38;5;167;01mChildProcessError\u001B[39;00m:\n\u001B[1;32m   1901\u001B[0m     \u001B[38;5;66;03m# This happens if SIGCLD is set to be ignored or waiting\u001B[39;00m\n\u001B[1;32m   1902\u001B[0m     \u001B[38;5;66;03m# for child processes has otherwise been disabled for our\u001B[39;00m\n\u001B[1;32m   1903\u001B[0m     \u001B[38;5;66;03m# process.  This child is dead, we can't get the status.\u001B[39;00m\n\u001B[1;32m   1904\u001B[0m     pid \u001B[38;5;241m=\u001B[39m \u001B[38;5;28mself\u001B[39m\u001B[38;5;241m.\u001B[39mpid\n",
      "\u001B[0;31mKeyboardInterrupt\u001B[0m: "
     ]
    }
   ],
   "source": [
    "test.run_extraction()"
   ],
   "metadata": {
    "collapsed": false
   }
  },
  {
   "cell_type": "code",
   "execution_count": null,
   "outputs": [],
   "source": [
    "len(ids)"
   ],
   "metadata": {
    "collapsed": false
   }
  },
  {
   "cell_type": "code",
   "execution_count": null,
   "outputs": [],
   "source": [
    "import pandas as pd"
   ],
   "metadata": {
    "collapsed": false
   }
  },
  {
   "cell_type": "code",
   "execution_count": null,
   "outputs": [],
   "source": [
    "pd.Series(ids).to_csv('/Users/aldotapia/Documents/Fondef/gfs_ids.csv')"
   ],
   "metadata": {
    "collapsed": false
   }
  },
  {
   "cell_type": "code",
   "execution_count": null,
   "outputs": [],
   "source": [],
   "metadata": {
    "collapsed": false
   }
  }
 ],
 "metadata": {
  "kernelspec": {
   "display_name": "Python 3",
   "language": "python",
   "name": "python3"
  },
  "language_info": {
   "codemirror_mode": {
    "name": "ipython",
    "version": 2
   },
   "file_extension": ".py",
   "mimetype": "text/x-python",
   "name": "python",
   "nbconvert_exporter": "python",
   "pygments_lexer": "ipython2",
   "version": "2.7.6"
  }
 },
 "nbformat": 4,
 "nbformat_minor": 0
}
