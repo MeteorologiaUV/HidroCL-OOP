{
 "cells": [
  {
   "cell_type": "code",
   "execution_count": 8,
   "metadata": {
    "collapsed": true
   },
   "outputs": [],
   "source": [
    "import hidrocl\n",
    "import hidrocl_paths as hcl"
   ]
  },
  {
   "cell_type": "code",
   "execution_count": 9,
   "outputs": [],
   "source": [
    "import geopandas as gpd\n",
    "shp = gpd.read_file('/Users/aldotapia/Desktop/Eliminar/prueba.shp')"
   ],
   "metadata": {
    "collapsed": false
   }
  },
  {
   "cell_type": "code",
   "execution_count": 10,
   "outputs": [
    {
     "name": "stdout",
     "output_type": "stream",
     "text": [
      "Database found, using /Users/aldotapia/Desktop/Eliminar/pet.csv\n",
      "Database found, using /Users/aldotapia/Desktop/Eliminar/petpc.csv\n",
      "Database not found. Please, add catchment names before creating the database\n",
      "Please, check the database for getting the IDs processed\n",
      "Could not load dataframe, perhaps the database has not been created yet\n",
      "Database not found. Please, add catchment names before creating the database\n"
     ]
    }
   ],
   "source": [
    "pet = hidrocl.HidroCLVariable('pet','/Users/aldotapia/Desktop/Eliminar/pet.csv','/Users/aldotapia/Desktop/Eliminar/petpc.csv')\n",
    "et = hidrocl.HidroCLVariable('et','/Users/aldotapia/Desktop/Eliminar/et.csv','/Users/aldotapia/Desktop/Eliminar/etpc.csv')"
   ],
   "metadata": {
    "collapsed": false
   }
  },
  {
   "cell_type": "code",
   "execution_count": 11,
   "outputs": [
    {
     "name": "stdout",
     "output_type": "stream",
     "text": [
      "Database found, using /Users/aldotapia/Desktop/Eliminar/pet.csv\n",
      "Database found, using /Users/aldotapia/Desktop/Eliminar/petpc.csv\n",
      "Database not found, creating it for /Users/aldotapia/Desktop/Eliminar/et.csv\n",
      "Database created!\n",
      "Database not found, creating it for /Users/aldotapia/Desktop/Eliminar/etpc.csv\n",
      "Database created!\n"
     ]
    }
   ],
   "source": [
    "pet.catchment_names = shp.gauge_id.to_list()\n",
    "pet.checkdatabase()\n",
    "pet.checkpcdatabase()\n",
    "et.catchment_names = shp.gauge_id.to_list()\n",
    "et.checkdatabase()\n",
    "et.checkpcdatabase()"
   ],
   "metadata": {
    "collapsed": false
   }
  },
  {
   "cell_type": "code",
   "execution_count": 12,
   "outputs": [],
   "source": [
    "mod16 = hidrocl.Mod16a2(pet, et, hcl.mod16a2_path, '/Users/aldotapia/Desktop/Eliminar/prueba.shp','/Users/aldotapia/Desktop/Eliminar/bitacora.txt','/Users/aldotapia/Desktop/Eliminar/bitacora2.txt')"
   ],
   "metadata": {
    "collapsed": false
   }
  },
  {
   "cell_type": "code",
   "execution_count": 13,
   "outputs": [
    {
     "name": "stdout",
     "output_type": "stream",
     "text": [
      "\n",
      "Product: MODIS MOD16A2 Version 6.1\n",
      "\n",
      "PET records: 0.\n",
      "PET database path: /Users/aldotapia/Desktop/Eliminar/pet.csv\n",
      "\n",
      "ET records: 0.\n",
      "ET database path: /Users/aldotapia/Desktop/Eliminar/et.csv\n",
      "        \n"
     ]
    }
   ],
   "source": [
    "print(mod16)"
   ],
   "metadata": {
    "collapsed": false
   }
  },
  {
   "cell_type": "code",
   "execution_count": null,
   "outputs": [
    {
     "name": "stdout",
     "output_type": "stream",
     "text": [
      "Processing scene A2000049 for et\n"
     ]
    },
    {
     "name": "stderr",
     "output_type": "stream",
     "text": [
      "Error in x$.self$finalize() : attempt to apply non-function\n",
      "Error in x$.self$finalize() : attempt to apply non-function\n",
      "Error in x$.self$finalize() : attempt to apply non-function\n",
      "Error in x$.self$finalize() : attempt to apply non-function\n",
      "Error in x$.self$finalize() : attempt to apply non-function\n",
      "Error in x$.self$finalize() : attempt to apply non-function\n",
      "Error in x$.self$finalize() : attempt to apply non-function\n",
      "Error in x$.self$finalize() : attempt to apply non-function\n",
      "Error in x$.self$finalize() : attempt to apply non-function\n",
      "Error in (function (x)  : attempt to apply non-function\n"
     ]
    },
    {
     "name": "stdout",
     "output_type": "stream",
     "text": [
      "Time elapsed for A2000049: 18 seconds\n",
      "Processing scene A2000049 for et\n"
     ]
    },
    {
     "name": "stderr",
     "output_type": "stream",
     "text": [
      "Error in x$.self$finalize() : attempt to apply non-function\n",
      "Error in x$.self$finalize() : attempt to apply non-function\n",
      "Error in x$.self$finalize() : attempt to apply non-function\n",
      "Error in x$.self$finalize() : attempt to apply non-function\n",
      "Error in x$.self$finalize() : attempt to apply non-function\n",
      "Error in x$.self$finalize() : attempt to apply non-function\n",
      "Error in x$.self$finalize() : attempt to apply non-function\n",
      "Error in x$.self$finalize() : attempt to apply non-function\n",
      "Error in x$.self$finalize() : attempt to apply non-function\n",
      "Error in (function (x)  : attempt to apply non-function\n"
     ]
    },
    {
     "name": "stdout",
     "output_type": "stream",
     "text": [
      "Time elapsed for A2000049: 13 seconds\n",
      "Processing scene A2000057 for et\n"
     ]
    },
    {
     "name": "stderr",
     "output_type": "stream",
     "text": [
      "Error in x$.self$finalize() : attempt to apply non-function\n",
      "Error in x$.self$finalize() : attempt to apply non-function\n",
      "Error in x$.self$finalize() : attempt to apply non-function\n",
      "Error in x$.self$finalize() : attempt to apply non-function\n",
      "Error in x$.self$finalize() : attempt to apply non-function\n",
      "Error in x$.self$finalize() : attempt to apply non-function\n",
      "Error in x$.self$finalize() : attempt to apply non-function\n",
      "Error in x$.self$finalize() : attempt to apply non-function\n",
      "Error in x$.self$finalize() : attempt to apply non-function\n",
      "Error in (function (x)  : attempt to apply non-function\n"
     ]
    },
    {
     "name": "stdout",
     "output_type": "stream",
     "text": [
      "Time elapsed for A2000057: 25 seconds\n",
      "Processing scene A2000057 for et\n"
     ]
    },
    {
     "name": "stderr",
     "output_type": "stream",
     "text": [
      "Error in x$.self$finalize() : attempt to apply non-function\n",
      "Error in x$.self$finalize() : attempt to apply non-function\n",
      "Error in x$.self$finalize() : attempt to apply non-function\n",
      "Error in x$.self$finalize() : attempt to apply non-function\n",
      "Error in x$.self$finalize() : attempt to apply non-function\n",
      "Error in x$.self$finalize() : attempt to apply non-function\n",
      "Error in x$.self$finalize() : attempt to apply non-function\n",
      "Error in x$.self$finalize() : attempt to apply non-function\n",
      "Error in x$.self$finalize() : attempt to apply non-function\n",
      "Error in (function (x)  : attempt to apply non-function\n"
     ]
    },
    {
     "name": "stdout",
     "output_type": "stream",
     "text": [
      "Time elapsed for A2000057: 12 seconds\n",
      "Processing scene A2000065 for et\n"
     ]
    },
    {
     "name": "stderr",
     "output_type": "stream",
     "text": [
      "Error in x$.self$finalize() : attempt to apply non-function\n",
      "Error in x$.self$finalize() : attempt to apply non-function\n",
      "Error in x$.self$finalize() : attempt to apply non-function\n",
      "Error in x$.self$finalize() : attempt to apply non-function\n",
      "Error in x$.self$finalize() : attempt to apply non-function\n",
      "Error in x$.self$finalize() : attempt to apply non-function\n",
      "Error in x$.self$finalize() : attempt to apply non-function\n",
      "Error in x$.self$finalize() : attempt to apply non-function\n",
      "Error in x$.self$finalize() : attempt to apply non-function\n",
      "Error in (function (x)  : attempt to apply non-function\n"
     ]
    },
    {
     "name": "stdout",
     "output_type": "stream",
     "text": [
      "Time elapsed for A2000065: 24 seconds\n",
      "Processing scene A2000065 for et\n"
     ]
    },
    {
     "name": "stderr",
     "output_type": "stream",
     "text": [
      "Error in x$.self$finalize() : attempt to apply non-function\n",
      "Error in x$.self$finalize() : attempt to apply non-function\n",
      "Error in x$.self$finalize() : attempt to apply non-function\n",
      "Error in x$.self$finalize() : attempt to apply non-function\n",
      "Error in x$.self$finalize() : attempt to apply non-function\n",
      "Error in x$.self$finalize() : attempt to apply non-function\n",
      "Error in x$.self$finalize() : attempt to apply non-function\n",
      "Error in x$.self$finalize() : attempt to apply non-function\n",
      "Error in x$.self$finalize() : attempt to apply non-function\n",
      "Error in (function (x)  : attempt to apply non-function\n"
     ]
    },
    {
     "name": "stdout",
     "output_type": "stream",
     "text": [
      "Time elapsed for A2000065: 12 seconds\n",
      "Processing scene A2000073 for et\n"
     ]
    },
    {
     "name": "stderr",
     "output_type": "stream",
     "text": [
      "Error in x$.self$finalize() : attempt to apply non-function\n",
      "Error in x$.self$finalize() : attempt to apply non-function\n",
      "Error in x$.self$finalize() : attempt to apply non-function\n",
      "Error in x$.self$finalize() : attempt to apply non-function\n",
      "Error in x$.self$finalize() : attempt to apply non-function\n",
      "Error in x$.self$finalize() : attempt to apply non-function\n",
      "Error in x$.self$finalize() : attempt to apply non-function\n",
      "Error in x$.self$finalize() : attempt to apply non-function\n",
      "Error in x$.self$finalize() : attempt to apply non-function\n",
      "Error in (function (x)  : attempt to apply non-function\n"
     ]
    },
    {
     "name": "stdout",
     "output_type": "stream",
     "text": [
      "Time elapsed for A2000073: 25 seconds\n",
      "Processing scene A2000073 for et\n"
     ]
    },
    {
     "name": "stderr",
     "output_type": "stream",
     "text": [
      "Error in x$.self$finalize() : attempt to apply non-function\n",
      "Error in x$.self$finalize() : attempt to apply non-function\n",
      "Error in x$.self$finalize() : attempt to apply non-function\n",
      "Error in x$.self$finalize() : attempt to apply non-function\n",
      "Error in x$.self$finalize() : attempt to apply non-function\n",
      "Error in x$.self$finalize() : attempt to apply non-function\n",
      "Error in x$.self$finalize() : attempt to apply non-function\n",
      "Error in x$.self$finalize() : attempt to apply non-function\n",
      "Error in x$.self$finalize() : attempt to apply non-function\n",
      "Error in (function (x)  : attempt to apply non-function\n"
     ]
    },
    {
     "name": "stdout",
     "output_type": "stream",
     "text": [
      "Time elapsed for A2000073: 12 seconds\n",
      "Processing scene A2000081 for et\n"
     ]
    },
    {
     "name": "stderr",
     "output_type": "stream",
     "text": [
      "Error in x$.self$finalize() : attempt to apply non-function\n",
      "Error in x$.self$finalize() : attempt to apply non-function\n",
      "Error in x$.self$finalize() : attempt to apply non-function\n",
      "Error in x$.self$finalize() : attempt to apply non-function\n",
      "Error in x$.self$finalize() : attempt to apply non-function\n",
      "Error in x$.self$finalize() : attempt to apply non-function\n",
      "Error in x$.self$finalize() : attempt to apply non-function\n",
      "Error in x$.self$finalize() : attempt to apply non-function\n",
      "Error in x$.self$finalize() : attempt to apply non-function\n",
      "Error in (function (x)  : attempt to apply non-function\n"
     ]
    },
    {
     "name": "stdout",
     "output_type": "stream",
     "text": [
      "Time elapsed for A2000081: 28 seconds\n",
      "Processing scene A2000081 for et\n"
     ]
    },
    {
     "name": "stderr",
     "output_type": "stream",
     "text": [
      "Error in x$.self$finalize() : attempt to apply non-function\n",
      "Error in x$.self$finalize() : attempt to apply non-function\n",
      "Error in x$.self$finalize() : attempt to apply non-function\n",
      "Error in x$.self$finalize() : attempt to apply non-function\n",
      "Error in x$.self$finalize() : attempt to apply non-function\n",
      "Error in x$.self$finalize() : attempt to apply non-function\n",
      "Error in x$.self$finalize() : attempt to apply non-function\n",
      "Error in x$.self$finalize() : attempt to apply non-function\n",
      "Error in x$.self$finalize() : attempt to apply non-function\n",
      "Error in (function (x)  : attempt to apply non-function\n"
     ]
    },
    {
     "name": "stdout",
     "output_type": "stream",
     "text": [
      "Time elapsed for A2000081: 13 seconds\n",
      "Processing scene A2000089 for et\n"
     ]
    },
    {
     "name": "stderr",
     "output_type": "stream",
     "text": [
      "Error in x$.self$finalize() : attempt to apply non-function\n",
      "Error in x$.self$finalize() : attempt to apply non-function\n",
      "Error in x$.self$finalize() : attempt to apply non-function\n",
      "Error in x$.self$finalize() : attempt to apply non-function\n",
      "Error in x$.self$finalize() : attempt to apply non-function\n",
      "Error in x$.self$finalize() : attempt to apply non-function\n",
      "Error in x$.self$finalize() : attempt to apply non-function\n",
      "Error in x$.self$finalize() : attempt to apply non-function\n",
      "Error in x$.self$finalize() : attempt to apply non-function\n",
      "Error in (function (x)  : attempt to apply non-function\n"
     ]
    },
    {
     "name": "stdout",
     "output_type": "stream",
     "text": [
      "Time elapsed for A2000089: 25 seconds\n",
      "Processing scene A2000089 for et\n"
     ]
    },
    {
     "name": "stderr",
     "output_type": "stream",
     "text": [
      "Error in x$.self$finalize() : attempt to apply non-function\n",
      "Error in x$.self$finalize() : attempt to apply non-function\n",
      "Error in x$.self$finalize() : attempt to apply non-function\n",
      "Error in x$.self$finalize() : attempt to apply non-function\n",
      "Error in x$.self$finalize() : attempt to apply non-function\n",
      "Error in x$.self$finalize() : attempt to apply non-function\n",
      "Error in x$.self$finalize() : attempt to apply non-function\n",
      "Error in x$.self$finalize() : attempt to apply non-function\n",
      "Error in x$.self$finalize() : attempt to apply non-function\n",
      "Error in (function (x)  : attempt to apply non-function\n"
     ]
    },
    {
     "name": "stdout",
     "output_type": "stream",
     "text": [
      "Time elapsed for A2000089: 12 seconds\n",
      "Processing scene A2000097 for et\n"
     ]
    },
    {
     "name": "stderr",
     "output_type": "stream",
     "text": [
      "Error in x$.self$finalize() : attempt to apply non-function\n",
      "Error in x$.self$finalize() : attempt to apply non-function\n",
      "Error in x$.self$finalize() : attempt to apply non-function\n",
      "Error in x$.self$finalize() : attempt to apply non-function\n",
      "Error in x$.self$finalize() : attempt to apply non-function\n",
      "Error in x$.self$finalize() : attempt to apply non-function\n",
      "Error in x$.self$finalize() : attempt to apply non-function\n",
      "Error in x$.self$finalize() : attempt to apply non-function\n",
      "Error in x$.self$finalize() : attempt to apply non-function\n",
      "Error in (function (x)  : attempt to apply non-function\n"
     ]
    },
    {
     "name": "stdout",
     "output_type": "stream",
     "text": [
      "Time elapsed for A2000097: 27 seconds\n",
      "Processing scene A2000097 for et\n"
     ]
    },
    {
     "name": "stderr",
     "output_type": "stream",
     "text": [
      "Error in x$.self$finalize() : attempt to apply non-function\n",
      "Error in x$.self$finalize() : attempt to apply non-function\n",
      "Error in x$.self$finalize() : attempt to apply non-function\n",
      "Error in x$.self$finalize() : attempt to apply non-function\n",
      "Error in x$.self$finalize() : attempt to apply non-function\n",
      "Error in x$.self$finalize() : attempt to apply non-function\n",
      "Error in x$.self$finalize() : attempt to apply non-function\n",
      "Error in x$.self$finalize() : attempt to apply non-function\n",
      "Error in x$.self$finalize() : attempt to apply non-function\n",
      "Error in (function (x)  : attempt to apply non-function\n"
     ]
    },
    {
     "name": "stdout",
     "output_type": "stream",
     "text": [
      "Time elapsed for A2000097: 13 seconds\n",
      "Processing scene A2000105 for et\n"
     ]
    }
   ],
   "source": [
    "mod16.run_extraction()"
   ],
   "metadata": {
    "collapsed": false,
    "pycharm": {
     "is_executing": true
    }
   }
  },
  {
   "cell_type": "code",
   "execution_count": null,
   "outputs": [],
   "source": [],
   "metadata": {
    "collapsed": false
   }
  }
 ],
 "metadata": {
  "kernelspec": {
   "display_name": "Python 3",
   "language": "python",
   "name": "python3"
  },
  "language_info": {
   "codemirror_mode": {
    "name": "ipython",
    "version": 2
   },
   "file_extension": ".py",
   "mimetype": "text/x-python",
   "name": "python",
   "nbconvert_exporter": "python",
   "pygments_lexer": "ipython2",
   "version": "2.7.6"
  }
 },
 "nbformat": 4,
 "nbformat_minor": 0
}
