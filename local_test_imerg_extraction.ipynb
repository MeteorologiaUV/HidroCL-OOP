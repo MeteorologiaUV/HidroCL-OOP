{
 "cells": [
  {
   "cell_type": "code",
   "execution_count": 1,
   "metadata": {
    "collapsed": true,
    "pycharm": {
     "name": "#%%\n"
    }
   },
   "outputs": [
    {
     "name": "stdout",
     "output_type": "stream",
     "text": [
      "0.0.5\n"
     ]
    }
   ],
   "source": [
    "import hidrocl\n",
    "import hidrocl_paths as hcl\n",
    "print(hidrocl.__version__)"
   ]
  },
  {
   "cell_type": "code",
   "execution_count": 2,
   "outputs": [
    {
     "name": "stdout",
     "output_type": "stream",
     "text": [
      "Database found, using ./testfiles/imerg.csv\n",
      "Database found, using ./testfiles/imerg_p.csv\n"
     ]
    }
   ],
   "source": [
    "pp = hidrocl.HidroCLVariable(\"pp\",\n",
    "                             \"./testfiles/imerg.csv\",\n",
    "                             \"./testfiles/imerg_p.csv\")"
   ],
   "metadata": {
    "collapsed": false,
    "pycharm": {
     "name": "#%%\n"
    }
   }
  },
  {
   "cell_type": "code",
   "execution_count": 3,
   "outputs": [],
   "source": [
    "imerg = hidrocl.Gpm_3imrghhl(pp,\n",
    "                             product_path=\"./testfiles/imerg/\",\n",
    "                             vector_path=\"./testfiles/Vectors/HidroCL_boundaries.shp\",\n",
    "                             pp_log=\"./imerg.txt\")"
   ],
   "metadata": {
    "collapsed": false,
    "pycharm": {
     "name": "#%%\n"
    }
   }
  },
  {
   "cell_type": "code",
   "execution_count": 4,
   "outputs": [
    {
     "name": "stdout",
     "output_type": "stream",
     "text": [
      "Processing scene 20000601 for imerg\n",
      "Time elapsed for 20000601: 11 seconds\n",
      "Processing scene 20000602 for imerg\n",
      "Time elapsed for 20000602: 11 seconds\n"
     ]
    }
   ],
   "source": [
    "imerg.run_extraction()"
   ],
   "metadata": {
    "collapsed": false,
    "pycharm": {
     "name": "#%%\n"
    }
   }
  },
  {
   "cell_type": "code",
   "execution_count": 5,
   "outputs": [
    {
     "data": {
      "text/plain": "Empty DataFrame\nColumns: [name_id, 1001001, 1001002, 1001003, 1020002, 1020003, 1021001, 1021002, 1041002, 1044001, 1050002, 1050004, 1201001, 1201003, 1201005, 1210001, 1211001, 1300009, 1310002, 1410004, 1502002, 1502008, 1610004, 1730002, 1730003, 1730007, 1730012, 2101001, 2103001, 2103002, 2103014, 2104002, 2104003, 2104013, 2105001, 2105002, 2105005, 2105007, 2110001, 2110002, 2110004, 2110031, 2112005, 2112006, 2112007, 2113001, 2120001, 2510001, 3022001, 3041001, 3041002, 3041003, 3041004, 3041005, 3050001, 3404001, 3414001, 3421001, 3430001, 3430003, 3431001, 3434003, 3450001, 3453001, 3802001, 3804002, 3806001, 3814003, 3815001, 3815002, 3820001, 3820002, 3820003, 3825001, 4301002, 4302001, 4308001, 4311001, 4313001, 4314002, 4320001, 4323001, 4501001, 4503001, 4511002, 4512001, 4513001, 4514001, 4515002, 4520001, 4522002, 4523002, 4530001, 4531002, 4532001, 4533002, 4537001, 4558001, 4703002, 4704001, ...]\nIndex: []\n\n[0 rows x 433 columns]",
      "text/html": "<div>\n<style scoped>\n    .dataframe tbody tr th:only-of-type {\n        vertical-align: middle;\n    }\n\n    .dataframe tbody tr th {\n        vertical-align: top;\n    }\n\n    .dataframe thead th {\n        text-align: right;\n    }\n</style>\n<table border=\"1\" class=\"dataframe\">\n  <thead>\n    <tr style=\"text-align: right;\">\n      <th></th>\n      <th>name_id</th>\n      <th>1001001</th>\n      <th>1001002</th>\n      <th>1001003</th>\n      <th>1020002</th>\n      <th>1020003</th>\n      <th>1021001</th>\n      <th>1021002</th>\n      <th>1041002</th>\n      <th>1044001</th>\n      <th>...</th>\n      <th>12820001</th>\n      <th>12825002</th>\n      <th>12861001</th>\n      <th>12863002</th>\n      <th>12865001</th>\n      <th>12872001</th>\n      <th>12876001</th>\n      <th>12876004</th>\n      <th>12878001</th>\n      <th>12930001</th>\n    </tr>\n    <tr>\n      <th>date</th>\n      <th></th>\n      <th></th>\n      <th></th>\n      <th></th>\n      <th></th>\n      <th></th>\n      <th></th>\n      <th></th>\n      <th></th>\n      <th></th>\n      <th></th>\n      <th></th>\n      <th></th>\n      <th></th>\n      <th></th>\n      <th></th>\n      <th></th>\n      <th></th>\n      <th></th>\n      <th></th>\n      <th></th>\n    </tr>\n  </thead>\n  <tbody>\n  </tbody>\n</table>\n<p>0 rows × 433 columns</p>\n</div>"
     },
     "execution_count": 5,
     "metadata": {},
     "output_type": "execute_result"
    }
   ],
   "source": [
    "imerg.pp.observations"
   ],
   "metadata": {
    "collapsed": false,
    "pycharm": {
     "name": "#%%\n"
    }
   }
  },
  {
   "cell_type": "code",
   "execution_count": 6,
   "outputs": [
    {
     "name": "stdout",
     "output_type": "stream",
     "text": [
      "Database found, using ./testfiles/imerg.csv\n"
     ]
    }
   ],
   "source": [
    "imerg.pp.checkdatabase()"
   ],
   "metadata": {
    "collapsed": false,
    "pycharm": {
     "name": "#%%\n"
    }
   }
  },
  {
   "cell_type": "code",
   "execution_count": 7,
   "outputs": [
    {
     "data": {
      "text/plain": "             name_id  1001001  1001002  1001003  1020002  1020003  1021001  \\\ndate                                                                         \n2000-06-01  20000601        0        1        0        0        0        0   \n2000-06-02  20000602        0        0        0        0        0        0   \n\n            1021002  1041002  1044001  ...  12820001  12825002  12861001  \\\ndate                                   ...                                 \n2000-06-01        0        0        0  ...         6         1         2   \n2000-06-02        0        0        0  ...         2         8         2   \n\n            12863002  12865001  12872001  12876001  12876004  12878001  \\\ndate                                                                     \n2000-06-01         1         0         0         3         0         0   \n2000-06-02         1         2         2         5         6         7   \n\n            12930001  \ndate                  \n2000-06-01         2  \n2000-06-02         7  \n\n[2 rows x 433 columns]",
      "text/html": "<div>\n<style scoped>\n    .dataframe tbody tr th:only-of-type {\n        vertical-align: middle;\n    }\n\n    .dataframe tbody tr th {\n        vertical-align: top;\n    }\n\n    .dataframe thead th {\n        text-align: right;\n    }\n</style>\n<table border=\"1\" class=\"dataframe\">\n  <thead>\n    <tr style=\"text-align: right;\">\n      <th></th>\n      <th>name_id</th>\n      <th>1001001</th>\n      <th>1001002</th>\n      <th>1001003</th>\n      <th>1020002</th>\n      <th>1020003</th>\n      <th>1021001</th>\n      <th>1021002</th>\n      <th>1041002</th>\n      <th>1044001</th>\n      <th>...</th>\n      <th>12820001</th>\n      <th>12825002</th>\n      <th>12861001</th>\n      <th>12863002</th>\n      <th>12865001</th>\n      <th>12872001</th>\n      <th>12876001</th>\n      <th>12876004</th>\n      <th>12878001</th>\n      <th>12930001</th>\n    </tr>\n    <tr>\n      <th>date</th>\n      <th></th>\n      <th></th>\n      <th></th>\n      <th></th>\n      <th></th>\n      <th></th>\n      <th></th>\n      <th></th>\n      <th></th>\n      <th></th>\n      <th></th>\n      <th></th>\n      <th></th>\n      <th></th>\n      <th></th>\n      <th></th>\n      <th></th>\n      <th></th>\n      <th></th>\n      <th></th>\n      <th></th>\n    </tr>\n  </thead>\n  <tbody>\n    <tr>\n      <th>2000-06-01</th>\n      <td>20000601</td>\n      <td>0</td>\n      <td>1</td>\n      <td>0</td>\n      <td>0</td>\n      <td>0</td>\n      <td>0</td>\n      <td>0</td>\n      <td>0</td>\n      <td>0</td>\n      <td>...</td>\n      <td>6</td>\n      <td>1</td>\n      <td>2</td>\n      <td>1</td>\n      <td>0</td>\n      <td>0</td>\n      <td>3</td>\n      <td>0</td>\n      <td>0</td>\n      <td>2</td>\n    </tr>\n    <tr>\n      <th>2000-06-02</th>\n      <td>20000602</td>\n      <td>0</td>\n      <td>0</td>\n      <td>0</td>\n      <td>0</td>\n      <td>0</td>\n      <td>0</td>\n      <td>0</td>\n      <td>0</td>\n      <td>0</td>\n      <td>...</td>\n      <td>2</td>\n      <td>8</td>\n      <td>2</td>\n      <td>1</td>\n      <td>2</td>\n      <td>2</td>\n      <td>5</td>\n      <td>6</td>\n      <td>7</td>\n      <td>7</td>\n    </tr>\n  </tbody>\n</table>\n<p>2 rows × 433 columns</p>\n</div>"
     },
     "execution_count": 7,
     "metadata": {},
     "output_type": "execute_result"
    }
   ],
   "source": [
    "imerg.pp.observations"
   ],
   "metadata": {
    "collapsed": false,
    "pycharm": {
     "name": "#%%\n"
    }
   }
  }
 ],
 "metadata": {
  "kernelspec": {
   "display_name": "Python 3",
   "language": "python",
   "name": "python3"
  },
  "language_info": {
   "codemirror_mode": {
    "name": "ipython",
    "version": 2
   },
   "file_extension": ".py",
   "mimetype": "text/x-python",
   "name": "python",
   "nbconvert_exporter": "python",
   "pygments_lexer": "ipython2",
   "version": "2.7.6"
  }
 },
 "nbformat": 4,
 "nbformat_minor": 0
}