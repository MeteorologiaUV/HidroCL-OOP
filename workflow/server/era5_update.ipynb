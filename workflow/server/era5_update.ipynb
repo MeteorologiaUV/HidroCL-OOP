{
 "cells": [
  {
   "cell_type": "code",
   "execution_count": 1,
   "metadata": {
    "collapsed": true
   },
   "outputs": [
    {
     "name": "stderr",
     "output_type": "stream",
     "text": [
      "/Users/aldotapia/miniforge3/envs/hidrocl/lib/python3.10/site-packages/xarray/backends/cfgrib_.py:27: UserWarning: Failed to load cfgrib - most likely there is a problem accessing the ecCodes library. Try `import cfgrib` to get the full error message\n",
      "  warnings.warn(\n"
     ]
    }
   ],
   "source": [
    "import os\n",
    "import glob\n",
    "import shutil\n",
    "import hidrocl\n",
    "import hidrocl.paths as hcl\n",
    "import pandas as pd\n",
    "from pathlib import Path\n",
    "from config import project_path"
   ]
  },
  {
   "cell_type": "code",
   "execution_count": 2,
   "outputs": [
    {
     "name": "stdout",
     "output_type": "stream",
     "text": [
      "Setting paths\n",
      "Path /var/folders/t_/cbcq4k9d14l8g47hw5wpkrbw0000gn/T/tmp_8s5z005/observed/MOD10A2/ created\n"
     ]
    }
   ],
   "source": [
    "print('Setting paths')\n",
    "ppath = project_path\n",
    "\n",
    "today = hidrocl.get_today_date()\n",
    "\n",
    "hidrocl.set_project_path(ppath)\n",
    "\n",
    "tempdir = hidrocl.temporal_directory()\n",
    "\n",
    "hidrocl.set_processing_path(tempdir.name)\n",
    "\n",
    "hidrocl.prepare_path(hcl.mod10a2_path)\n",
    "\n",
    "product_path = hcl.mod10a2_path"
   ],
   "metadata": {
    "collapsed": false
   }
  },
  {
   "cell_type": "code",
   "execution_count": 3,
   "outputs": [
    {
     "name": "stdout",
     "output_type": "stream",
     "text": [
      "Database found, using /Users/aldotapia/hidrocl_test/databases/observed/snw_o_modis_sca_cum_n_d8_p0d.csv\n",
      "Database found, using /Users/aldotapia/hidrocl_test/pcdatabases/observed/snw_o_modis_sca_cum_n_pc.csv\n",
      "Database found, using /Users/aldotapia/hidrocl_test/databases/observed/snw_o_modis_sca_cum_s_d8_p0d.csv\n",
      "Database found, using /Users/aldotapia/hidrocl_test/pcdatabases/observed/snw_o_modis_sca_cum_s_pc.csv\n"
     ]
    }
   ],
   "source": [
    "nsnow = hidrocl.HidroCLVariable(\"nsnow\",\n",
    "                                hcl.snw_o_modis_sca_cum_n_d8_p0d,\n",
    "                                hcl.snw_o_modis_sca_cum_n_pc)\n",
    "\n",
    "ssnow = hidrocl.HidroCLVariable(\"ssnow\",\n",
    "                                hcl.snw_o_modis_sca_cum_s_d8_p0d,\n",
    "                                hcl.snw_o_modis_sca_cum_s_pc)"
   ],
   "metadata": {
    "collapsed": false
   }
  },
  {
   "cell_type": "code",
   "execution_count": 8,
   "outputs": [],
   "source": [
    "mod10 = hidrocl.Mod10a2(nsnow, ssnow,\n",
    "                        product_path='/Users/aldotapia/hidrocl_test/observed/MOD10A2',\n",
    "                        north_vector_path=hcl.hidrocl_north,\n",
    "                        south_vector_path=hcl.hidrocl_south,\n",
    "                        snow_log=hcl.log_snw_o_modis_sca_cum)"
   ],
   "metadata": {
    "collapsed": false
   }
  },
  {
   "cell_type": "code",
   "execution_count": 12,
   "outputs": [
    {
     "data": {
      "text/plain": "['A2023345']"
     },
     "execution_count": 12,
     "metadata": {},
     "output_type": "execute_result"
    }
   ],
   "source": [
    "mod10.all_scenes"
   ],
   "metadata": {
    "collapsed": false
   }
  },
  {
   "cell_type": "code",
   "execution_count": 13,
   "outputs": [
    {
     "data": {
      "text/plain": "             name_id  1001001  1001002  1001003  1020002  1020003  1021001  \\\ndate                                                                         \n2000-02-18  A2000049        3        8        7       16       15       12   \n2000-02-26  A2000057       22       15       27       21       20        7   \n2000-03-05  A2000065       45       66       57       62       55       23   \n2000-03-13  A2000073       17        5       13        9        6        3   \n2000-03-21  A2000081       10        6       12       10        8        4   \n...              ...      ...      ...      ...      ...      ...      ...   \n2023-11-09  A2023313       15        8       20       12        9        6   \n2023-11-17  A2023321        5        1        3        4        3        1   \n2023-11-25  A2023329       17        5       13       10        8        5   \n2023-12-03  A2023337       23       10       20       38       30        7   \n2023-12-11  A2023345       16       10       18       11        8        3   \n\n            1021002  1041002  1044001  ...  12820001  12825002  12861001  \\\ndate                                   ...                                 \n2000-02-18        0        8        4  ...         4        11         9   \n2000-02-26        0        3        1  ...         0         1         0   \n2000-03-05        0        6        2  ...         0         2         0   \n2000-03-13        0        2        1  ...         5         4         0   \n2000-03-21        0        4        2  ...        16        12         0   \n...             ...      ...      ...  ...       ...       ...       ...   \n2023-11-09        0        8        1  ...         9         4         0   \n2023-11-17        0        0        0  ...         0         4         0   \n2023-11-25        0        3        1  ...         1         8         1   \n2023-12-03        0        0        0  ...         2         5         0   \n2023-12-11        0        2        0  ...        15         4         1   \n\n            12863002  12865001  12872001  12876001  12876004  12878001  \\\ndate                                                                     \n2000-02-18        10        10         7        11        13         8   \n2000-02-26         0         0         0         1         0         0   \n2000-03-05         0         0         0         0         0         0   \n2000-03-13         0         1         0         3         2         1   \n2000-03-21         0         0         0         7         1         5   \n...              ...       ...       ...       ...       ...       ...   \n2023-11-09         0         0         2         3         5         2   \n2023-11-17         2         0         0         1         0         1   \n2023-11-25         0         1         0         3         5         8   \n2023-12-03         0         0         0         1         0         0   \n2023-12-11         0         0         0         3         0         9   \n\n            12930001  \ndate                  \n2000-02-18         6  \n2000-02-26         0  \n2000-03-05         0  \n2000-03-13         2  \n2000-03-21         8  \n...              ...  \n2023-11-09        15  \n2023-11-17         0  \n2023-11-25         6  \n2023-12-03         8  \n2023-12-11         6  \n\n[1071 rows x 433 columns]",
      "text/html": "<div>\n<style scoped>\n    .dataframe tbody tr th:only-of-type {\n        vertical-align: middle;\n    }\n\n    .dataframe tbody tr th {\n        vertical-align: top;\n    }\n\n    .dataframe thead th {\n        text-align: right;\n    }\n</style>\n<table border=\"1\" class=\"dataframe\">\n  <thead>\n    <tr style=\"text-align: right;\">\n      <th></th>\n      <th>name_id</th>\n      <th>1001001</th>\n      <th>1001002</th>\n      <th>1001003</th>\n      <th>1020002</th>\n      <th>1020003</th>\n      <th>1021001</th>\n      <th>1021002</th>\n      <th>1041002</th>\n      <th>1044001</th>\n      <th>...</th>\n      <th>12820001</th>\n      <th>12825002</th>\n      <th>12861001</th>\n      <th>12863002</th>\n      <th>12865001</th>\n      <th>12872001</th>\n      <th>12876001</th>\n      <th>12876004</th>\n      <th>12878001</th>\n      <th>12930001</th>\n    </tr>\n    <tr>\n      <th>date</th>\n      <th></th>\n      <th></th>\n      <th></th>\n      <th></th>\n      <th></th>\n      <th></th>\n      <th></th>\n      <th></th>\n      <th></th>\n      <th></th>\n      <th></th>\n      <th></th>\n      <th></th>\n      <th></th>\n      <th></th>\n      <th></th>\n      <th></th>\n      <th></th>\n      <th></th>\n      <th></th>\n      <th></th>\n    </tr>\n  </thead>\n  <tbody>\n    <tr>\n      <th>2000-02-18</th>\n      <td>A2000049</td>\n      <td>3</td>\n      <td>8</td>\n      <td>7</td>\n      <td>16</td>\n      <td>15</td>\n      <td>12</td>\n      <td>0</td>\n      <td>8</td>\n      <td>4</td>\n      <td>...</td>\n      <td>4</td>\n      <td>11</td>\n      <td>9</td>\n      <td>10</td>\n      <td>10</td>\n      <td>7</td>\n      <td>11</td>\n      <td>13</td>\n      <td>8</td>\n      <td>6</td>\n    </tr>\n    <tr>\n      <th>2000-02-26</th>\n      <td>A2000057</td>\n      <td>22</td>\n      <td>15</td>\n      <td>27</td>\n      <td>21</td>\n      <td>20</td>\n      <td>7</td>\n      <td>0</td>\n      <td>3</td>\n      <td>1</td>\n      <td>...</td>\n      <td>0</td>\n      <td>1</td>\n      <td>0</td>\n      <td>0</td>\n      <td>0</td>\n      <td>0</td>\n      <td>1</td>\n      <td>0</td>\n      <td>0</td>\n      <td>0</td>\n    </tr>\n    <tr>\n      <th>2000-03-05</th>\n      <td>A2000065</td>\n      <td>45</td>\n      <td>66</td>\n      <td>57</td>\n      <td>62</td>\n      <td>55</td>\n      <td>23</td>\n      <td>0</td>\n      <td>6</td>\n      <td>2</td>\n      <td>...</td>\n      <td>0</td>\n      <td>2</td>\n      <td>0</td>\n      <td>0</td>\n      <td>0</td>\n      <td>0</td>\n      <td>0</td>\n      <td>0</td>\n      <td>0</td>\n      <td>0</td>\n    </tr>\n    <tr>\n      <th>2000-03-13</th>\n      <td>A2000073</td>\n      <td>17</td>\n      <td>5</td>\n      <td>13</td>\n      <td>9</td>\n      <td>6</td>\n      <td>3</td>\n      <td>0</td>\n      <td>2</td>\n      <td>1</td>\n      <td>...</td>\n      <td>5</td>\n      <td>4</td>\n      <td>0</td>\n      <td>0</td>\n      <td>1</td>\n      <td>0</td>\n      <td>3</td>\n      <td>2</td>\n      <td>1</td>\n      <td>2</td>\n    </tr>\n    <tr>\n      <th>2000-03-21</th>\n      <td>A2000081</td>\n      <td>10</td>\n      <td>6</td>\n      <td>12</td>\n      <td>10</td>\n      <td>8</td>\n      <td>4</td>\n      <td>0</td>\n      <td>4</td>\n      <td>2</td>\n      <td>...</td>\n      <td>16</td>\n      <td>12</td>\n      <td>0</td>\n      <td>0</td>\n      <td>0</td>\n      <td>0</td>\n      <td>7</td>\n      <td>1</td>\n      <td>5</td>\n      <td>8</td>\n    </tr>\n    <tr>\n      <th>...</th>\n      <td>...</td>\n      <td>...</td>\n      <td>...</td>\n      <td>...</td>\n      <td>...</td>\n      <td>...</td>\n      <td>...</td>\n      <td>...</td>\n      <td>...</td>\n      <td>...</td>\n      <td>...</td>\n      <td>...</td>\n      <td>...</td>\n      <td>...</td>\n      <td>...</td>\n      <td>...</td>\n      <td>...</td>\n      <td>...</td>\n      <td>...</td>\n      <td>...</td>\n      <td>...</td>\n    </tr>\n    <tr>\n      <th>2023-11-09</th>\n      <td>A2023313</td>\n      <td>15</td>\n      <td>8</td>\n      <td>20</td>\n      <td>12</td>\n      <td>9</td>\n      <td>6</td>\n      <td>0</td>\n      <td>8</td>\n      <td>1</td>\n      <td>...</td>\n      <td>9</td>\n      <td>4</td>\n      <td>0</td>\n      <td>0</td>\n      <td>0</td>\n      <td>2</td>\n      <td>3</td>\n      <td>5</td>\n      <td>2</td>\n      <td>15</td>\n    </tr>\n    <tr>\n      <th>2023-11-17</th>\n      <td>A2023321</td>\n      <td>5</td>\n      <td>1</td>\n      <td>3</td>\n      <td>4</td>\n      <td>3</td>\n      <td>1</td>\n      <td>0</td>\n      <td>0</td>\n      <td>0</td>\n      <td>...</td>\n      <td>0</td>\n      <td>4</td>\n      <td>0</td>\n      <td>2</td>\n      <td>0</td>\n      <td>0</td>\n      <td>1</td>\n      <td>0</td>\n      <td>1</td>\n      <td>0</td>\n    </tr>\n    <tr>\n      <th>2023-11-25</th>\n      <td>A2023329</td>\n      <td>17</td>\n      <td>5</td>\n      <td>13</td>\n      <td>10</td>\n      <td>8</td>\n      <td>5</td>\n      <td>0</td>\n      <td>3</td>\n      <td>1</td>\n      <td>...</td>\n      <td>1</td>\n      <td>8</td>\n      <td>1</td>\n      <td>0</td>\n      <td>1</td>\n      <td>0</td>\n      <td>3</td>\n      <td>5</td>\n      <td>8</td>\n      <td>6</td>\n    </tr>\n    <tr>\n      <th>2023-12-03</th>\n      <td>A2023337</td>\n      <td>23</td>\n      <td>10</td>\n      <td>20</td>\n      <td>38</td>\n      <td>30</td>\n      <td>7</td>\n      <td>0</td>\n      <td>0</td>\n      <td>0</td>\n      <td>...</td>\n      <td>2</td>\n      <td>5</td>\n      <td>0</td>\n      <td>0</td>\n      <td>0</td>\n      <td>0</td>\n      <td>1</td>\n      <td>0</td>\n      <td>0</td>\n      <td>8</td>\n    </tr>\n    <tr>\n      <th>2023-12-11</th>\n      <td>A2023345</td>\n      <td>16</td>\n      <td>10</td>\n      <td>18</td>\n      <td>11</td>\n      <td>8</td>\n      <td>3</td>\n      <td>0</td>\n      <td>2</td>\n      <td>0</td>\n      <td>...</td>\n      <td>15</td>\n      <td>4</td>\n      <td>1</td>\n      <td>0</td>\n      <td>0</td>\n      <td>0</td>\n      <td>3</td>\n      <td>0</td>\n      <td>9</td>\n      <td>6</td>\n    </tr>\n  </tbody>\n</table>\n<p>1071 rows × 433 columns</p>\n</div>"
     },
     "execution_count": 13,
     "metadata": {},
     "output_type": "execute_result"
    }
   ],
   "source": [
    "mod10.nsnow.observations"
   ],
   "metadata": {
    "collapsed": false
   }
  },
  {
   "cell_type": "code",
   "execution_count": 14,
   "outputs": [
    {
     "name": "stdout",
     "output_type": "stream",
     "text": [
      "Getting last dates\n"
     ]
    }
   ],
   "source": [
    "print('Getting last dates')\n",
    "\n",
    "lastnsnow = pd.to_datetime(nsnow.observations.index, format='%Y-%m-%d').sort_values().max()\n",
    "lastssnow = pd.to_datetime(ssnow.observations.index, format='%Y-%m').sort_values().max()\n",
    "\n",
    "lastdates = [lastnsnow, lastssnow]\n"
   ],
   "metadata": {
    "collapsed": false
   }
  },
  {
   "cell_type": "code",
   "execution_count": 18,
   "outputs": [],
   "source": [
    "import os\n",
    "import wget\n",
    "import gzip\n",
    "import time\n",
    "import shutil\n",
    "import ftplib\n",
    "import cdsapi\n",
    "import tarfile\n",
    "import logging\n",
    "import requests\n",
    "import earthaccess\n",
    "import pandas as pd\n",
    "import xarray as xr\n",
    "from datetime import datetime\n",
    "from bs4 import BeautifulSoup\n",
    "from requests.auth import HTTPBasicAuth"
   ],
   "metadata": {
    "collapsed": false
   }
  },
  {
   "cell_type": "code",
   "execution_count": 25,
   "outputs": [],
   "source": [
    "results = earthaccess.granule_query().short_name('MOD10A2').\\\n",
    "        bounding_box(-73.73, -55.01, -67.05, -17.63).version('61').\\\n",
    "        temporal(start, end).get_all()"
   ],
   "metadata": {
    "collapsed": false
   }
  },
  {
   "cell_type": "code",
   "execution_count": 26,
   "outputs": [
    {
     "data": {
      "text/plain": "10"
     },
     "execution_count": 26,
     "metadata": {},
     "output_type": "execute_result"
    }
   ],
   "source": [
    "len(results)"
   ],
   "metadata": {
    "collapsed": false
   }
  },
  {
   "cell_type": "code",
   "execution_count": 23,
   "outputs": [
    {
     "data": {
      "text/plain": "0"
     },
     "execution_count": 23,
     "metadata": {},
     "output_type": "execute_result"
    }
   ],
   "source": [
    "len(results)"
   ],
   "metadata": {
    "collapsed": false
   }
  },
  {
   "cell_type": "code",
   "execution_count": 24,
   "outputs": [],
   "source": [
    "lastdates = [lastnsnow, lastssnow]\n",
    "\n",
    "start = min(lastdates)\n",
    "start = start + pd.Timedelta(days=1)\n",
    "\n",
    "end = today\n",
    "\n",
    "if start == end:\n",
    "    print('No new data to download')\n",
    "    exit(code=0)\n",
    "\n",
    "start = start.strftime('%Y-%m-%d')\n",
    "end = end.strftime('%Y-%m-%d')\n",
    "\n",
    "p = pd.period_range(pd.to_datetime(start, format=\"%Y-%m-%d\"),\n",
    "                    pd.to_datetime(end, format=\"%Y-%m-%d\"), freq='D')"
   ],
   "metadata": {
    "collapsed": false
   }
  },
  {
   "cell_type": "code",
   "execution_count": 20,
   "outputs": [
    {
     "data": {
      "text/plain": "'2023-12-19'"
     },
     "execution_count": 20,
     "metadata": {},
     "output_type": "execute_result"
    }
   ],
   "source": [
    "start"
   ],
   "metadata": {
    "collapsed": false
   }
  },
  {
   "cell_type": "code",
   "execution_count": null,
   "outputs": [],
   "source": [
    "p"
   ],
   "metadata": {
    "collapsed": false
   }
  },
  {
   "cell_type": "code",
   "execution_count": null,
   "outputs": [],
   "source": [],
   "metadata": {
    "collapsed": false
   }
  },
  {
   "cell_type": "code",
   "execution_count": null,
   "outputs": [],
   "source": [],
   "metadata": {
    "collapsed": false
   }
  },
  {
   "cell_type": "code",
   "execution_count": null,
   "outputs": [],
   "source": [
    "for url in missing_urls:\n",
    "    date = url.split('/')[-2].replace('gfs', '')\n",
    "    try:\n",
    "        hidrocl.download.download_gfs(url, product_path)\n",
    "        print('Download done')\n",
    "    except ValueError:\n",
    "        print(\"Fail\")\n"
   ],
   "metadata": {
    "collapsed": false
   }
  },
  {
   "cell_type": "code",
   "execution_count": null,
   "outputs": [],
   "source": [
    "p = pd.period_range(pd.to_datetime(start, format=\"%Y-%m-%d\"),\n",
    "                    pd.to_datetime(end, format=\"%Y-%m-%d\"), freq='D')\n"
   ],
   "metadata": {
    "collapsed": false
   }
  },
  {
   "cell_type": "code",
   "execution_count": null,
   "outputs": [],
   "source": [
    "for i in p:\n",
    "    print(i)\n",
    "\n",
    "    year = int(i.strftime('%Y'))\n",
    "    month = int(i.strftime('%m'))\n",
    "    day = int(i.strftime('%d'))\n",
    "\n",
    "    fname = f'era5_{year:04d}{month:02d}{day:02d}.nc'\n",
    "    file = Path(os.path.join(product_path, f'{year:04d}', fname))\n",
    "\n",
    "    if file.is_file():\n",
    "        print('already downloaded')\n",
    "    else:\n",
    "        try:\n",
    "            print('downloading')\n",
    "            hidrocl.download.download_era5(year=year,\n",
    "                                           month=month,\n",
    "                                           day=day,\n",
    "                                           path=product_path)\n",
    "        except Exception:\n",
    "            print('day out of range')"
   ],
   "metadata": {
    "collapsed": false
   }
  },
  {
   "cell_type": "code",
   "execution_count": null,
   "outputs": [],
   "source": [
    "os.chdir(product_path)\n",
    "\n",
    "for file in glob.glob(\"*.nc\"):\n",
    "    # get future subfolder from name\n",
    "    folder = file.split(\"_\")[1][:4]\n",
    "    # copy or create the folder if fails\n",
    "    os.makedirs(os.path.join(product_path, folder), exist_ok=True)\n",
    "    shutil.copyfile(file, os.path.join(product_path, folder, file))\n",
    "    # remove file from old folder\n",
    "    os.remove(file)\n",
    "    print(f'Done with {file}')\n",
    "\n",
    "os.chdir(hidrocl.project_path)"
   ],
   "metadata": {
    "collapsed": false
   }
  },
  {
   "cell_type": "code",
   "execution_count": null,
   "outputs": [],
   "source": [
    "era5pre = hidrocl.preprocess.Era5_pre_rh(product_path=hcl.era5_hourly_path,\n",
    "                                         output_path=hcl.era5_relative_humidity_path)\n",
    "\n",
    "era5pre.run_extraction()"
   ],
   "metadata": {
    "collapsed": false
   }
  },
  {
   "cell_type": "code",
   "execution_count": null,
   "outputs": [],
   "source": [
    "era5 = hidrocl.Era5(pp=pp,\n",
    "                    temp=temp, tempmin=tempmin, tempmax=tempmax,\n",
    "                    dew=dew, pres=pres, u=u, v=v,\n",
    "                    pp_log=hcl.log_pp_o_era5_pp_mean,\n",
    "                    temp_log=hcl.log_tmp_o_era5_tmp_mean,\n",
    "                    tempmin_log=hcl.log_tmp_o_era5_tmin_mean,\n",
    "                    tempmax_log=hcl.log_tmp_o_era5_tmax_mean,\n",
    "                    dew_log=hcl.log_tmp_o_era5_dew_mean,\n",
    "                    pres_log=hcl.log_atm_o_era5_pres_mean,\n",
    "                    u_log=hcl.log_wind_o_era5_u10_mean,\n",
    "                    v_log=hcl.log_wind_o_era5_v10_mean,\n",
    "                    product_path=hcl.era5_hourly_path,\n",
    "                    vector_path=hcl.hidrocl_wgs84)\n"
   ],
   "metadata": {
    "collapsed": false
   }
  },
  {
   "cell_type": "code",
   "execution_count": null,
   "outputs": [],
   "source": [
    "era5pplen = hidrocl.Era5pplen(pplen=pplen,\n",
    "                              product_path=hcl.era5_hourly_path,\n",
    "                              vector_path=hcl.hidrocl_wgs84,\n",
    "                              pplen_log=hcl.log_pp_o_era5_plen_mean)\n"
   ],
   "metadata": {
    "collapsed": false
   }
  },
  {
   "cell_type": "code",
   "execution_count": null,
   "outputs": [],
   "source": [
    "era5maxpp = hidrocl.Era5ppmax(ppmax=maxpp, ppmax_log=hcl.log_pp_o_era5_maxpp_mean,\n",
    "                         product_path=hcl.era5_hourly_path,\n",
    "                         vector_path=hcl.hidrocl_wgs84)\n"
   ],
   "metadata": {
    "collapsed": false
   }
  },
  {
   "cell_type": "code",
   "execution_count": null,
   "outputs": [],
   "source": [
    "era5rh = hidrocl.Era5_rh(rh=rh,\n",
    "                       rh_log=hcl.log_awc_f_gfs_rh_mean_log,\n",
    "                       product_path=hcl.era5_relative_humidity_path,\n",
    "                       vector_path=hcl.hidrocl_wgs84)\n",
    "\n"
   ],
   "metadata": {
    "collapsed": false
   }
  },
  {
   "cell_type": "code",
   "execution_count": null,
   "outputs": [],
   "source": [
    "era5.run_extraction()\n",
    "era5pplen.run_extraction()\n",
    "era5maxpp.run_extraction()\n",
    "era5rh.run_extraction()"
   ],
   "metadata": {
    "collapsed": false
   }
  },
  {
   "cell_type": "code",
   "execution_count": null,
   "outputs": [],
   "source": [
    "# remove temporal path\n",
    "shutil.rmtree(tempdir.name)"
   ],
   "metadata": {
    "collapsed": false
   }
  }
 ],
 "metadata": {
  "kernelspec": {
   "display_name": "Python 3",
   "language": "python",
   "name": "python3"
  },
  "language_info": {
   "codemirror_mode": {
    "name": "ipython",
    "version": 2
   },
   "file_extension": ".py",
   "mimetype": "text/x-python",
   "name": "python",
   "nbconvert_exporter": "python",
   "pygments_lexer": "ipython2",
   "version": "2.7.6"
  }
 },
 "nbformat": 4,
 "nbformat_minor": 0
}
